{
  "nbformat": 4,
  "nbformat_minor": 0,
  "metadata": {
    "colab": {
      "name": "RecomSyS using deeplearning.ipynb",
      "provenance": [],
      "mount_file_id": "https://github.com/minshyee/RecoSyS/blob/main/RecomSyS_using_deeplearning.ipynb",
      "authorship_tag": "ABX9TyPYqzeIJbQ5ksrpAyQZ2RF7",
      "include_colab_link": true
    },
    "kernelspec": {
      "name": "python3",
      "display_name": "Python 3"
    },
    "language_info": {
      "name": "python"
    }
  },
  "cells": [
    {
      "cell_type": "markdown",
      "metadata": {
        "id": "view-in-github",
        "colab_type": "text"
      },
      "source": [
        "<a href=\"https://colab.research.google.com/github/minshyee/RecoSyS/blob/main/RecomSyS_using_deeplearning.ipynb\" target=\"_parent\"><img src=\"https://colab.research.google.com/assets/colab-badge.svg\" alt=\"Open In Colab\"/></a>"
      ]
    },
    {
      "cell_type": "markdown",
      "source": [
        "## 1. Matrix Factorization(MF)을 신경망으로 변환하기"
      ],
      "metadata": {
        "id": "YJnHRabY6gtw"
      }
    },
    {
      "cell_type": "code",
      "execution_count": null,
      "metadata": {
        "id": "qdn5_jKR27W-"
      },
      "outputs": [],
      "source": [
        "import pandas as pd\n",
        "\n",
        "from sklearn.model_selection import train_test_split\n",
        "\n",
        "import tensorflow as tf\n",
        "from tensorflow.keras import layers\n",
        "from tensorflow.keras.models import Model\n",
        "from tensorflow.keras.layers import Input, Embedding, Dot, Add, Flatten\n",
        "from tensorflow.keras.regularizers import l2\n",
        "from tensorflow.keras.optimizers import SGD, Adamax"
      ]
    },
    {
      "cell_type": "code",
      "source": [
        "r_cols = ['user_id','movie_id','rating','timestamp']\n",
        "data_dic = '/content/drive/MyDrive/Recosys/Data/u.data'\n",
        "ratings = pd.read_csv(data_dic,\n",
        "                      names=r_cols,\n",
        "                      sep='\\t',\n",
        "                      encoding='latin-1')\n",
        "\n",
        "ratings_train, ratings_test = train_test_split(ratings, test_size=0.2, shuffle=True, random_state=2021)"
      ],
      "metadata": {
        "id": "2vX7zESIvciw"
      },
      "execution_count": null,
      "outputs": []
    },
    {
      "cell_type": "code",
      "source": [
        "# latent vector \n",
        "k = 200\n",
        "\n",
        "mu = ratings_train.rating.mean() # 전체 평균\n",
        "\n",
        "# user가 몇 명이고, 영화가 몇 개인지 세기\n",
        "M = ratings.user_id.max() + 1 # +1은 bias term의 크기\n",
        "N = ratings.movie_id.max() + 1\n",
        "\n",
        "def RMSE(y_true, y_pred):\n",
        "  return tf.sqrt(tf.reduce_mean(tf.square(y_true - y_pred)))"
      ],
      "metadata": {
        "id": "mbMk8Lw9zTTt"
      },
      "execution_count": null,
      "outputs": []
    },
    {
      "cell_type": "markdown",
      "source": [
        "Keras Layer에 신경망을 구성하기 위한 코드"
      ],
      "metadata": {
        "id": "sVuHWyK71Ggh"
      }
    },
    {
      "cell_type": "code",
      "source": [
        "# 사용자와 아이템의 입력 크기 미리 지정 -> 왜 (1,)?\n",
        "user = Input(shape=(1,))\n",
        "item = Input(shape=(1,))\n",
        "\n",
        "P_embedding = Embedding(M,k,embeddings_regularizer=l2())(user)\n",
        "Q_embedding = Embedding(N,k,embeddings_regularizer=l2())(item)\n",
        "\n",
        "user_bias = Embedding(M,1,embeddings_regularizer=l2())(user)\n",
        "item_bias = Embedding(N,1,embeddings_regularizer=l2())(item)"
      ],
      "metadata": {
        "id": "il5xmbMp0FrA"
      },
      "execution_count": 18,
      "outputs": []
    },
    {
      "cell_type": "markdown",
      "source": [
        "Model Build"
      ],
      "metadata": {
        "id": "ga7qCxdI1MN5"
      }
    },
    {
      "cell_type": "code",
      "source": [
        "R = layers.dot([P_embedding, Q_embedding], axes=(2,2)) # 2번쨰 축(K,K)끼리 연산하겠다 \n",
        "\n",
        "R = layers.add([R,user_bias,item_bias])\n",
        "\n",
        "R = Flatten()(R) # 1차원으로 변경\n",
        "\n",
        "model = Model(inputs=[user,item],outputs=R)\n",
        "model.compile(loss=RMSE,\n",
        "              optimizer=SGD(),\n",
        "              metrics=[RMSE])\n",
        "model.summary()"
      ],
      "metadata": {
        "colab": {
          "base_uri": "https://localhost:8080/"
        },
        "id": "eq98Kihg05aW",
        "outputId": "6af6fbaf-3f34-484b-e20c-83ebd26a455d"
      },
      "execution_count": 19,
      "outputs": [
        {
          "output_type": "stream",
          "name": "stdout",
          "text": [
            "Model: \"model_1\"\n",
            "__________________________________________________________________________________________________\n",
            " Layer (type)                   Output Shape         Param #     Connected to                     \n",
            "==================================================================================================\n",
            " input_7 (InputLayer)           [(None, 1)]          0           []                               \n",
            "                                                                                                  \n",
            " input_8 (InputLayer)           [(None, 1)]          0           []                               \n",
            "                                                                                                  \n",
            " embedding_4 (Embedding)        (None, 1, 200)       188800      ['input_7[0][0]']                \n",
            "                                                                                                  \n",
            " embedding_5 (Embedding)        (None, 1, 200)       336600      ['input_8[0][0]']                \n",
            "                                                                                                  \n",
            " dot_1 (Dot)                    (None, 1, 1)         0           ['embedding_4[0][0]',            \n",
            "                                                                  'embedding_5[0][0]']            \n",
            "                                                                                                  \n",
            " embedding_6 (Embedding)        (None, 1, 1)         944         ['input_7[0][0]']                \n",
            "                                                                                                  \n",
            " embedding_7 (Embedding)        (None, 1, 1)         1683        ['input_8[0][0]']                \n",
            "                                                                                                  \n",
            " add (Add)                      (None, 1, 1)         0           ['dot_1[0][0]',                  \n",
            "                                                                  'embedding_6[0][0]',            \n",
            "                                                                  'embedding_7[0][0]']            \n",
            "                                                                                                  \n",
            " flatten_9 (Flatten)            (None, 1)            0           ['add[0][0]']                    \n",
            "                                                                                                  \n",
            "==================================================================================================\n",
            "Total params: 528,027\n",
            "Trainable params: 528,027\n",
            "Non-trainable params: 0\n",
            "__________________________________________________________________________________________________\n"
          ]
        }
      ]
    },
    {
      "cell_type": "code",
      "source": [
        "result = model.fit(x=[ratings_train.user_id.values,\n",
        "                      ratings_train.movie_id.values],\n",
        "                   y=ratings_train.rating.values - mu,\n",
        "                   \n",
        "                   epochs=60,\n",
        "                   batch_size=256,\n",
        "                   validation_data = ([ratings_test.user_id.values, ratings_test.movie_id.values],\n",
        "                                      ratings_test.rating.values - mu)\n",
        "                   )"
      ],
      "metadata": {
        "colab": {
          "base_uri": "https://localhost:8080/"
        },
        "id": "8OtdDvIx2DOF",
        "outputId": "df801d0a-82ec-42bc-f1da-9720bd33c3d8"
      },
      "execution_count": 20,
      "outputs": [
        {
          "output_type": "stream",
          "name": "stdout",
          "text": [
            "Epoch 1/60\n",
            "313/313 [==============================] - 3s 8ms/step - loss: 5.2573 - RMSE: 1.1266 - val_loss: 4.9941 - val_RMSE: 1.1179\n",
            "Epoch 2/60\n",
            "313/313 [==============================] - 2s 8ms/step - loss: 4.7689 - RMSE: 1.1245 - val_loss: 4.5360 - val_RMSE: 1.1158\n",
            "Epoch 3/60\n",
            "313/313 [==============================] - 1s 4ms/step - loss: 4.3382 - RMSE: 1.1225 - val_loss: 4.1318 - val_RMSE: 1.1140\n",
            "Epoch 4/60\n",
            "313/313 [==============================] - 1s 4ms/step - loss: 3.9579 - RMSE: 1.1205 - val_loss: 3.7752 - val_RMSE: 1.1122\n",
            "Epoch 5/60\n",
            "313/313 [==============================] - 1s 4ms/step - loss: 3.6227 - RMSE: 1.1189 - val_loss: 3.4606 - val_RMSE: 1.1106\n",
            "Epoch 6/60\n",
            "313/313 [==============================] - 1s 4ms/step - loss: 3.3269 - RMSE: 1.1172 - val_loss: 3.1831 - val_RMSE: 1.1091\n",
            "Epoch 7/60\n",
            "313/313 [==============================] - 2s 5ms/step - loss: 3.0659 - RMSE: 1.1156 - val_loss: 2.9383 - val_RMSE: 1.1078\n",
            "Epoch 8/60\n",
            "313/313 [==============================] - 2s 7ms/step - loss: 2.8359 - RMSE: 1.1146 - val_loss: 2.7222 - val_RMSE: 1.1065\n",
            "Epoch 9/60\n",
            "313/313 [==============================] - 2s 6ms/step - loss: 2.6326 - RMSE: 1.1131 - val_loss: 2.5317 - val_RMSE: 1.1053\n",
            "Epoch 10/60\n",
            "313/313 [==============================] - 1s 5ms/step - loss: 2.4536 - RMSE: 1.1122 - val_loss: 2.3636 - val_RMSE: 1.1042\n",
            "Epoch 11/60\n",
            "313/313 [==============================] - 1s 5ms/step - loss: 2.2953 - RMSE: 1.1110 - val_loss: 2.2152 - val_RMSE: 1.1032\n",
            "Epoch 12/60\n",
            "313/313 [==============================] - 1s 5ms/step - loss: 2.1559 - RMSE: 1.1098 - val_loss: 2.0844 - val_RMSE: 1.1023\n",
            "Epoch 13/60\n",
            "313/313 [==============================] - 1s 5ms/step - loss: 2.0329 - RMSE: 1.1091 - val_loss: 1.9689 - val_RMSE: 1.1014\n",
            "Epoch 14/60\n",
            "313/313 [==============================] - 1s 4ms/step - loss: 1.9243 - RMSE: 1.1083 - val_loss: 1.8671 - val_RMSE: 1.1006\n",
            "Epoch 15/60\n",
            "313/313 [==============================] - 1s 5ms/step - loss: 1.8286 - RMSE: 1.1075 - val_loss: 1.7772 - val_RMSE: 1.0999\n",
            "Epoch 16/60\n",
            "313/313 [==============================] - 1s 4ms/step - loss: 1.7442 - RMSE: 1.1068 - val_loss: 1.6980 - val_RMSE: 1.0992\n",
            "Epoch 17/60\n",
            "313/313 [==============================] - 1s 5ms/step - loss: 1.6696 - RMSE: 1.1063 - val_loss: 1.6280 - val_RMSE: 1.0986\n",
            "Epoch 18/60\n",
            "313/313 [==============================] - 1s 5ms/step - loss: 1.6037 - RMSE: 1.1052 - val_loss: 1.5663 - val_RMSE: 1.0980\n",
            "Epoch 19/60\n",
            "313/313 [==============================] - 2s 5ms/step - loss: 1.5458 - RMSE: 1.1052 - val_loss: 1.5119 - val_RMSE: 1.0974\n",
            "Epoch 20/60\n",
            "313/313 [==============================] - 1s 4ms/step - loss: 1.4945 - RMSE: 1.1044 - val_loss: 1.4639 - val_RMSE: 1.0969\n",
            "Epoch 21/60\n",
            "313/313 [==============================] - 1s 4ms/step - loss: 1.4493 - RMSE: 1.1040 - val_loss: 1.4215 - val_RMSE: 1.0964\n",
            "Epoch 22/60\n",
            "313/313 [==============================] - 1s 5ms/step - loss: 1.4095 - RMSE: 1.1034 - val_loss: 1.3841 - val_RMSE: 1.0960\n",
            "Epoch 23/60\n",
            "313/313 [==============================] - 1s 5ms/step - loss: 1.3744 - RMSE: 1.1029 - val_loss: 1.3511 - val_RMSE: 1.0956\n",
            "Epoch 24/60\n",
            "313/313 [==============================] - 1s 5ms/step - loss: 1.3433 - RMSE: 1.1024 - val_loss: 1.3220 - val_RMSE: 1.0952\n",
            "Epoch 25/60\n",
            "313/313 [==============================] - 2s 5ms/step - loss: 1.3159 - RMSE: 1.1022 - val_loss: 1.2964 - val_RMSE: 1.0948\n",
            "Epoch 26/60\n",
            "313/313 [==============================] - 2s 5ms/step - loss: 1.2918 - RMSE: 1.1019 - val_loss: 1.2737 - val_RMSE: 1.0945\n",
            "Epoch 27/60\n",
            "313/313 [==============================] - 1s 5ms/step - loss: 1.2705 - RMSE: 1.1015 - val_loss: 1.2537 - val_RMSE: 1.0942\n",
            "Epoch 28/60\n",
            "313/313 [==============================] - 2s 5ms/step - loss: 1.2516 - RMSE: 1.1011 - val_loss: 1.2361 - val_RMSE: 1.0939\n",
            "Epoch 29/60\n",
            "313/313 [==============================] - 2s 7ms/step - loss: 1.2352 - RMSE: 1.1009 - val_loss: 1.2206 - val_RMSE: 1.0937\n",
            "Epoch 30/60\n",
            "313/313 [==============================] - 2s 5ms/step - loss: 1.2206 - RMSE: 1.1007 - val_loss: 1.2068 - val_RMSE: 1.0934\n",
            "Epoch 31/60\n",
            "313/313 [==============================] - 1s 5ms/step - loss: 1.2077 - RMSE: 1.1004 - val_loss: 1.1947 - val_RMSE: 1.0932\n",
            "Epoch 32/60\n",
            "313/313 [==============================] - 1s 5ms/step - loss: 1.1963 - RMSE: 1.1002 - val_loss: 1.1841 - val_RMSE: 1.0930\n",
            "Epoch 33/60\n",
            "313/313 [==============================] - 1s 5ms/step - loss: 1.1863 - RMSE: 1.1002 - val_loss: 1.1746 - val_RMSE: 1.0928\n",
            "Epoch 34/60\n",
            "313/313 [==============================] - 1s 5ms/step - loss: 1.1773 - RMSE: 1.0997 - val_loss: 1.1663 - val_RMSE: 1.0926\n",
            "Epoch 35/60\n",
            "313/313 [==============================] - 1s 5ms/step - loss: 1.1696 - RMSE: 1.0997 - val_loss: 1.1590 - val_RMSE: 1.0924\n",
            "Epoch 36/60\n",
            "313/313 [==============================] - 1s 5ms/step - loss: 1.1626 - RMSE: 1.0995 - val_loss: 1.1525 - val_RMSE: 1.0922\n",
            "Epoch 37/60\n",
            "313/313 [==============================] - 1s 5ms/step - loss: 1.1564 - RMSE: 1.0993 - val_loss: 1.1468 - val_RMSE: 1.0921\n",
            "Epoch 38/60\n",
            "313/313 [==============================] - 1s 5ms/step - loss: 1.1513 - RMSE: 1.0993 - val_loss: 1.1418 - val_RMSE: 1.0920\n",
            "Epoch 39/60\n",
            "313/313 [==============================] - 1s 5ms/step - loss: 1.1464 - RMSE: 1.0991 - val_loss: 1.1373 - val_RMSE: 1.0918\n",
            "Epoch 40/60\n",
            "313/313 [==============================] - 1s 4ms/step - loss: 1.1423 - RMSE: 1.0990 - val_loss: 1.1334 - val_RMSE: 1.0917\n",
            "Epoch 41/60\n",
            "313/313 [==============================] - 1s 4ms/step - loss: 1.1385 - RMSE: 1.0986 - val_loss: 1.1300 - val_RMSE: 1.0916\n",
            "Epoch 42/60\n",
            "313/313 [==============================] - 1s 5ms/step - loss: 1.1352 - RMSE: 1.0984 - val_loss: 1.1269 - val_RMSE: 1.0915\n",
            "Epoch 43/60\n",
            "313/313 [==============================] - 1s 4ms/step - loss: 1.1325 - RMSE: 1.0986 - val_loss: 1.1242 - val_RMSE: 1.0914\n",
            "Epoch 44/60\n",
            "313/313 [==============================] - 1s 5ms/step - loss: 1.1299 - RMSE: 1.0985 - val_loss: 1.1218 - val_RMSE: 1.0913\n",
            "Epoch 45/60\n",
            "313/313 [==============================] - 1s 5ms/step - loss: 1.1278 - RMSE: 1.0985 - val_loss: 1.1197 - val_RMSE: 1.0912\n",
            "Epoch 46/60\n",
            "313/313 [==============================] - 1s 5ms/step - loss: 1.1257 - RMSE: 1.0983 - val_loss: 1.1179 - val_RMSE: 1.0911\n",
            "Epoch 47/60\n",
            "313/313 [==============================] - 1s 5ms/step - loss: 1.1241 - RMSE: 1.0984 - val_loss: 1.1163 - val_RMSE: 1.0911\n",
            "Epoch 48/60\n",
            "313/313 [==============================] - 1s 5ms/step - loss: 1.1225 - RMSE: 1.0983 - val_loss: 1.1148 - val_RMSE: 1.0910\n",
            "Epoch 49/60\n",
            "313/313 [==============================] - 1s 5ms/step - loss: 1.1211 - RMSE: 1.0981 - val_loss: 1.1136 - val_RMSE: 1.0909\n",
            "Epoch 50/60\n",
            "313/313 [==============================] - 1s 4ms/step - loss: 1.1198 - RMSE: 1.0980 - val_loss: 1.1124 - val_RMSE: 1.0909\n",
            "Epoch 51/60\n",
            "313/313 [==============================] - 1s 5ms/step - loss: 1.1189 - RMSE: 1.0979 - val_loss: 1.1114 - val_RMSE: 1.0908\n",
            "Epoch 52/60\n",
            "313/313 [==============================] - 1s 5ms/step - loss: 1.1179 - RMSE: 1.0979 - val_loss: 1.1106 - val_RMSE: 1.0908\n",
            "Epoch 53/60\n",
            "313/313 [==============================] - 1s 5ms/step - loss: 1.1172 - RMSE: 1.0980 - val_loss: 1.1098 - val_RMSE: 1.0907\n",
            "Epoch 54/60\n",
            "313/313 [==============================] - 1s 4ms/step - loss: 1.1164 - RMSE: 1.0978 - val_loss: 1.1091 - val_RMSE: 1.0907\n",
            "Epoch 55/60\n",
            "313/313 [==============================] - 1s 5ms/step - loss: 1.1157 - RMSE: 1.0979 - val_loss: 1.1085 - val_RMSE: 1.0906\n",
            "Epoch 56/60\n",
            "313/313 [==============================] - 1s 5ms/step - loss: 1.1151 - RMSE: 1.0977 - val_loss: 1.1080 - val_RMSE: 1.0906\n",
            "Epoch 57/60\n",
            "313/313 [==============================] - 1s 5ms/step - loss: 1.1147 - RMSE: 1.0976 - val_loss: 1.1075 - val_RMSE: 1.0905\n",
            "Epoch 58/60\n",
            "313/313 [==============================] - 1s 4ms/step - loss: 1.1142 - RMSE: 1.0975 - val_loss: 1.1071 - val_RMSE: 1.0905\n",
            "Epoch 59/60\n",
            "313/313 [==============================] - 1s 4ms/step - loss: 1.1137 - RMSE: 1.0976 - val_loss: 1.1068 - val_RMSE: 1.0905\n",
            "Epoch 60/60\n",
            "313/313 [==============================] - 1s 4ms/step - loss: 1.1136 - RMSE: 1.0975 - val_loss: 1.1064 - val_RMSE: 1.0904\n"
          ]
        }
      ]
    },
    {
      "cell_type": "code",
      "source": [
        "# PLOT\n",
        "import matplotlib.pyplot as plt\n",
        "plt.plot(result.history['RMSE'], label='Train RMSE')\n",
        "plt.plot(result.history['val_RMSE'], label='Test RMSE')\n",
        "plt.legend()\n",
        "plt.show()"
      ],
      "metadata": {
        "colab": {
          "base_uri": "https://localhost:8080/",
          "height": 265
        },
        "id": "bi6u589d3LTX",
        "outputId": "9951845f-3652-47a6-8639-6779df2d4af0"
      },
      "execution_count": 21,
      "outputs": [
        {
          "output_type": "display_data",
          "data": {
            "text/plain": [
              "<Figure size 432x288 with 1 Axes>"
            ],
            "image/png": "[encoded data removed]"
          },
          "metadata": {
            "needs_background": "light"
          }
        }
      ]
    },
    {
      "cell_type": "code",
      "source": [
        "user_ids = ratings_test.user_id.values[0:6]\n",
        "movie_ids = ratings_test.movie_id.values[0:6]\n",
        "\n",
        "predictions = model.predict([user_ids, movie_ids]) + mu"
      ],
      "metadata": {
        "id": "MRg4Inck4az9"
      },
      "execution_count": null,
      "outputs": []
    },
    {
      "cell_type": "code",
      "source": [
        "print(ratings_test[0:6])"
      ],
      "metadata": {
        "colab": {
          "base_uri": "https://localhost:8080/"
        },
        "id": "R5OAWa-542oC",
        "outputId": "558487ca-19f0-4baf-ed47-8c7b6a2f9e8b"
      },
      "execution_count": null,
      "outputs": [
        {
          "output_type": "stream",
          "name": "stdout",
          "text": [
            "       user_id  movie_id  rating  timestamp\n",
            "23307      468        51       3  875293386\n",
            "36679       92       780       3  875660494\n",
            "36626      555       489       5  879975455\n",
            "83753      940        69       2  885921265\n",
            "52604      181      1350       1  878962120\n",
            "49877      320       195       5  884749255\n"
          ]
        }
      ]
    },
    {
      "cell_type": "code",
      "source": [
        "print(predictions)"
      ],
      "metadata": {
        "colab": {
          "base_uri": "https://localhost:8080/"
        },
        "id": "GN1LM0zJ48Pl",
        "outputId": "05064b44-fb12-466b-f015-8fae02e6b408"
      },
      "execution_count": null,
      "outputs": [
        {
          "output_type": "stream",
          "name": "stdout",
          "text": [
            "[[3.555783 ]\n",
            " [3.472084 ]\n",
            " [3.5504608]\n",
            " [3.569458 ]\n",
            " [3.1841257]\n",
            " [3.5975978]]\n"
          ]
        }
      ]
    },
    {
      "cell_type": "code",
      "source": [
        "import numpy as np\n",
        "\n",
        "def RMSE_np(y_true, y_pred):\n",
        "  return np.sqrt(np.mean((np.array(y_true) - np.array(y_pred))**2))"
      ],
      "metadata": {
        "id": "lNtx2WyS5AJn"
      },
      "execution_count": null,
      "outputs": []
    },
    {
      "cell_type": "code",
      "source": [
        "user_ids = ratings_test.user_id.values\n",
        "movie_ids = ratings_test.movie_id.values\n",
        "\n",
        "y_pred = model.predict([user_ids, movie_ids]) + mu\n",
        "\n",
        "y_pred = np.ravel(y_pred,order='C') # 1차원 형태로 바꾸는 것 - order?\n",
        "\n",
        "y_true = np.array(ratings_test.rating)\n",
        "\n",
        "RMSE_np(y_true, y_pred)"
      ],
      "metadata": {
        "colab": {
          "base_uri": "https://localhost:8080/"
        },
        "id": "OumNIXYy5glB",
        "outputId": "1841a6fe-134d-4f38-bfaa-b89755e9d175"
      },
      "execution_count": null,
      "outputs": [
        {
          "output_type": "execute_result",
          "data": {
            "text/plain": [
              "1.0909831153232759"
            ]
          },
          "metadata": {},
          "execution_count": 30
        }
      ]
    },
    {
      "cell_type": "markdown",
      "source": [
        "## 딥러닝을 적용한 추천 시스템"
      ],
      "metadata": {
        "id": "lGg1UCJ02CqP"
      }
    },
    {
      "cell_type": "code",
      "source": [
        "import pandas as pd\n",
        "\n",
        "from sklearn.model_selection import train_test_split\n",
        "\n",
        "import tensorflow as tf\n",
        "from tensorflow.keras import layers\n",
        "from tensorflow.keras.models import Model\n",
        "from tensorflow.keras.layers import Input, Embedding, Dot, Add, Flatten\n",
        "#layer 구성\n",
        "from tensorflow.keras.layers import Dense, Concatenate, Activation\n",
        "from tensorflow.keras.regularizers import l2\n",
        "from tensorflow.keras.optimizers import SGD, Adamax"
      ],
      "metadata": {
        "id": "6J2zi52x2F5R"
      },
      "execution_count": 10,
      "outputs": []
    },
    {
      "cell_type": "code",
      "source": [
        "r_cols = ['user_id','movie_id','rating','timestamp']\n",
        "data_dic = '/content/drive/MyDrive/Recosys/Data/u.data'\n",
        "ratings = pd.read_csv(data_dic,\n",
        "                      names=r_cols,\n",
        "                      sep='\\t',\n",
        "                      encoding='latin-1')\n",
        "\n",
        "ratings_train, ratings_test = train_test_split(ratings, test_size=0.2, shuffle=True, random_state=2021)"
      ],
      "metadata": {
        "id": "yI0ubjP94wWH"
      },
      "execution_count": 3,
      "outputs": []
    },
    {
      "cell_type": "code",
      "source": [
        "# Define RMSE measure\n",
        "def RMSE(y_true, y_pred):\n",
        "  return tf.sqrt(tf.reduce_mean(tf.square(y_true - y_pred))) # tensorfliw math 클래스 이용\n",
        "\n",
        "# Variable 초기화 \n",
        "k=200 # latent vec\n",
        "mu = ratings_train.rating.mean() # 전체 평균\n",
        "#  +1 은 bias term.의 크기 고려\n",
        "# 다른데이터에서는 유니크한 개수 + 1 을 해줘야! \n",
        "M = ratings.user_id.max() + 1\n",
        "N = ratings.movie_id.max() + 1 "
      ],
      "metadata": {
        "id": "7BKoauAo5Apf"
      },
      "execution_count": 4,
      "outputs": []
    },
    {
      "cell_type": "markdown",
      "source": [
        "### Keras Model\n"
      ],
      "metadata": {
        "id": "CwnV1fn_6AW3"
      }
    },
    {
      "cell_type": "code",
      "source": [
        "user = Input(shape=(1,))\n",
        "item = Input(shape=(1,))\n",
        "\n",
        "#embedding을 통해 각각 k개의 노드를 갖는 layer로 변환\n",
        "P_embedding = Embedding(M,k,embeddings_regularizer=l2())(user)\n",
        "Q_embedding = Embedding(N,k,embeddings_regularizer=l2())(item)\n",
        "\n",
        "# 사용자 bias와 아이템 bias를 1개의 노드를 갖는 layer로 변환\n",
        "user_bias = Embedding(M,1,embeddings_regularizer=l2())(user)\n",
        "item_bias = Embedding(N,1,embeddings_regularizer=l2())(item)"
      ],
      "metadata": {
        "id": "EooU5jmi55qm"
      },
      "execution_count": 8,
      "outputs": []
    },
    {
      "cell_type": "code",
      "source": [
        "P_embedding = Flatten()(P_embedding)\n",
        "Q_embedding = Flatten()(Q_embedding)\n",
        "user_bias = Flatten()(user_bias)\n",
        "item_bias = Flatten()(item_bias)\n",
        "\n",
        "R =  Concatenate()([P_embedding, Q_embedding,  user_bias, item_bias])\n",
        "\n",
        "R = Dense(2048)(R)\n",
        "R = Activation('linear')(R)\n",
        "\n",
        "R = Dense(256)(R)\n",
        "R = Activation('linear')(R)\n",
        "\n",
        "R = Dense(1)(R)\n",
        "\n",
        "model = Model(inputs=[user,item],outputs=R)\n",
        "\n",
        "model.compile(loss=RMSE,\n",
        "              optimizer=SGD(),\n",
        "              metrics=[RMSE])"
      ],
      "metadata": {
        "id": "tQIp_keE7EoQ"
      },
      "execution_count": 11,
      "outputs": []
    },
    {
      "cell_type": "code",
      "source": [
        "model.summary()"
      ],
      "metadata": {
        "id": "_BvPrQqY8Itu",
        "outputId": "3afb0ca5-35cc-4fe7-97ca-3737344fd594",
        "colab": {
          "base_uri": "https://localhost:8080/"
        }
      },
      "execution_count": 12,
      "outputs": [
        {
          "output_type": "stream",
          "name": "stdout",
          "text": [
            "Model: \"model\"\n",
            "__________________________________________________________________________________________________\n",
            " Layer (type)                   Output Shape         Param #     Connected to                     \n",
            "==================================================================================================\n",
            " input_5 (InputLayer)           [(None, 1)]          0           []                               \n",
            "                                                                                                  \n",
            " input_6 (InputLayer)           [(None, 1)]          0           []                               \n",
            "                                                                                                  \n",
            " embedding (Embedding)          (None, 1, 200)       188800      ['input_5[0][0]']                \n",
            "                                                                                                  \n",
            " embedding_1 (Embedding)        (None, 1, 200)       336600      ['input_6[0][0]']                \n",
            "                                                                                                  \n",
            " embedding_2 (Embedding)        (None, 1, 1)         944         ['input_5[0][0]']                \n",
            "                                                                                                  \n",
            " embedding_3 (Embedding)        (None, 1, 1)         1683        ['input_6[0][0]']                \n",
            "                                                                                                  \n",
            " flatten_1 (Flatten)            (None, 200)          0           ['embedding[0][0]']              \n",
            "                                                                                                  \n",
            " flatten_2 (Flatten)            (None, 200)          0           ['embedding_1[0][0]']            \n",
            "                                                                                                  \n",
            " flatten_3 (Flatten)            (None, 1)            0           ['embedding_2[0][0]']            \n",
            "                                                                                                  \n",
            " flatten_4 (Flatten)            (None, 1)            0           ['embedding_3[0][0]']            \n",
            "                                                                                                  \n",
            " flatten_5 (Flatten)            (None, 200)          0           ['flatten_1[0][0]']              \n",
            "                                                                                                  \n",
            " flatten_6 (Flatten)            (None, 200)          0           ['flatten_2[0][0]']              \n",
            "                                                                                                  \n",
            " flatten_7 (Flatten)            (None, 1)            0           ['flatten_3[0][0]']              \n",
            "                                                                                                  \n",
            " flatten_8 (Flatten)            (None, 1)            0           ['flatten_4[0][0]']              \n",
            "                                                                                                  \n",
            " concatenate (Concatenate)      (None, 402)          0           ['flatten_5[0][0]',              \n",
            "                                                                  'flatten_6[0][0]',              \n",
            "                                                                  'flatten_7[0][0]',              \n",
            "                                                                  'flatten_8[0][0]']              \n",
            "                                                                                                  \n",
            " dense (Dense)                  (None, 2048)         825344      ['concatenate[0][0]']            \n",
            "                                                                                                  \n",
            " activation (Activation)        (None, 2048)         0           ['dense[0][0]']                  \n",
            "                                                                                                  \n",
            " dense_1 (Dense)                (None, 256)          524544      ['activation[0][0]']             \n",
            "                                                                                                  \n",
            " activation_1 (Activation)      (None, 256)          0           ['dense_1[0][0]']                \n",
            "                                                                                                  \n",
            " dense_2 (Dense)                (None, 1)            257         ['activation_1[0][0]']           \n",
            "                                                                                                  \n",
            "==================================================================================================\n",
            "Total params: 1,878,172\n",
            "Trainable params: 1,878,172\n",
            "Non-trainable params: 0\n",
            "__________________________________________________________________________________________________\n"
          ]
        }
      ]
    },
    {
      "cell_type": "markdown",
      "source": [
        "## Model Train"
      ],
      "metadata": {
        "id": "5YF_5bkq8rV_"
      }
    },
    {
      "cell_type": "code",
      "source": [
        "# 입력 데이터 정리\n",
        "train_user_ids = ratings_train.user_id.values\n",
        "train_movie_ids = ratings_train.movie_id.values\n",
        "train_ratings = ratings_train.rating.values\n",
        "\n",
        "test_user_ids = ratings_test.user_id.values\n",
        "test_movie_ids = ratings_test.movie_id.values\n",
        "test_ratings = ratings_test.rating.values"
      ],
      "metadata": {
        "id": "lFMU3vI28tnU"
      },
      "execution_count": 14,
      "outputs": []
    },
    {
      "cell_type": "code",
      "source": [
        "result = model.fit(x=[train_user_ids, train_movie_ids],\n",
        "                   y= train_ratings - mu,\n",
        "                   epochs = 65,\n",
        "                   batch_size= 512,\n",
        "                   validation_data=(\n",
        "                       [test_user_ids, test_movie_ids],\n",
        "                       test_ratings - mu\n",
        "                   ))"
      ],
      "metadata": {
        "id": "mIOqn0rb9Fnl",
        "outputId": "b440d7db-df4c-4680-999d-310608596cbe",
        "colab": {
          "base_uri": "https://localhost:8080/"
        }
      },
      "execution_count": 15,
      "outputs": [
        {
          "output_type": "stream",
          "name": "stdout",
          "text": [
            "Epoch 1/65\n",
            "157/157 [==============================] - 17s 101ms/step - loss: 5.3849 - RMSE: 1.1265 - val_loss: 5.2421 - val_RMSE: 1.1176\n",
            "Epoch 2/65\n",
            "157/157 [==============================] - 16s 99ms/step - loss: 5.1240 - RMSE: 1.1251 - val_loss: 4.9893 - val_RMSE: 1.1158\n",
            "Epoch 3/65\n",
            "157/157 [==============================] - 17s 108ms/step - loss: 4.8788 - RMSE: 1.1230 - val_loss: 4.7520 - val_RMSE: 1.1141\n",
            "Epoch 4/65\n",
            "157/157 [==============================] - 16s 101ms/step - loss: 4.6489 - RMSE: 1.1212 - val_loss: 4.5290 - val_RMSE: 1.1125\n",
            "Epoch 5/65\n",
            "157/157 [==============================] - 12s 76ms/step - loss: 4.4326 - RMSE: 1.1203 - val_loss: 4.3196 - val_RMSE: 1.1108\n",
            "Epoch 6/65\n",
            "157/157 [==============================] - 11s 72ms/step - loss: 4.2295 - RMSE: 1.1179 - val_loss: 4.1230 - val_RMSE: 1.1091\n",
            "Epoch 7/65\n",
            "157/157 [==============================] - 11s 73ms/step - loss: 4.0384 - RMSE: 1.1159 - val_loss: 3.9378 - val_RMSE: 1.1071\n",
            "Epoch 8/65\n",
            "157/157 [==============================] - 11s 73ms/step - loss: 3.8589 - RMSE: 1.1144 - val_loss: 3.7638 - val_RMSE: 1.1050\n",
            "Epoch 9/65\n",
            "157/157 [==============================] - 11s 72ms/step - loss: 3.6898 - RMSE: 1.1119 - val_loss: 3.6001 - val_RMSE: 1.1027\n",
            "Epoch 10/65\n",
            "157/157 [==============================] - 11s 73ms/step - loss: 3.5308 - RMSE: 1.1095 - val_loss: 3.4459 - val_RMSE: 1.0999\n",
            "Epoch 11/65\n",
            "157/157 [==============================] - 11s 72ms/step - loss: 3.3811 - RMSE: 1.1064 - val_loss: 3.3008 - val_RMSE: 1.0970\n",
            "Epoch 12/65\n",
            "157/157 [==============================] - 13s 81ms/step - loss: 3.2399 - RMSE: 1.1032 - val_loss: 3.1637 - val_RMSE: 1.0933\n",
            "Epoch 13/65\n",
            "157/157 [==============================] - 12s 74ms/step - loss: 3.1066 - RMSE: 1.0992 - val_loss: 3.0344 - val_RMSE: 1.0891\n",
            "Epoch 14/65\n",
            "157/157 [==============================] - 11s 73ms/step - loss: 2.9805 - RMSE: 1.0946 - val_loss: 2.9123 - val_RMSE: 1.0844\n",
            "Epoch 15/65\n",
            "157/157 [==============================] - 13s 80ms/step - loss: 2.8615 - RMSE: 1.0895 - val_loss: 2.7967 - val_RMSE: 1.0789\n",
            "Epoch 16/65\n",
            "157/157 [==============================] - 11s 73ms/step - loss: 2.7485 - RMSE: 1.0834 - val_loss: 2.6868 - val_RMSE: 1.0723\n",
            "Epoch 17/65\n",
            "157/157 [==============================] - 11s 73ms/step - loss: 2.6413 - RMSE: 1.0764 - val_loss: 2.5827 - val_RMSE: 1.0649\n",
            "Epoch 18/65\n",
            "157/157 [==============================] - 11s 73ms/step - loss: 2.5395 - RMSE: 1.0686 - val_loss: 2.4837 - val_RMSE: 1.0566\n",
            "Epoch 19/65\n",
            "157/157 [==============================] - 12s 74ms/step - loss: 2.4427 - RMSE: 1.0595 - val_loss: 2.3896 - val_RMSE: 1.0476\n",
            "Epoch 20/65\n",
            "157/157 [==============================] - 11s 73ms/step - loss: 2.3505 - RMSE: 1.0501 - val_loss: 2.3004 - val_RMSE: 1.0380\n",
            "Epoch 21/65\n",
            "157/157 [==============================] - 12s 74ms/step - loss: 2.2630 - RMSE: 1.0398 - val_loss: 2.2155 - val_RMSE: 1.0279\n",
            "Epoch 22/65\n",
            "157/157 [==============================] - 12s 74ms/step - loss: 2.1801 - RMSE: 1.0295 - val_loss: 2.1354 - val_RMSE: 1.0178\n",
            "Epoch 23/65\n",
            "157/157 [==============================] - 11s 73ms/step - loss: 2.1017 - RMSE: 1.0195 - val_loss: 2.0598 - val_RMSE: 1.0081\n",
            "Epoch 24/65\n",
            "157/157 [==============================] - 11s 73ms/step - loss: 2.0277 - RMSE: 1.0093 - val_loss: 1.9885 - val_RMSE: 0.9988\n",
            "Epoch 25/65\n",
            "157/157 [==============================] - 11s 73ms/step - loss: 1.9584 - RMSE: 1.0000 - val_loss: 1.9220 - val_RMSE: 0.9905\n",
            "Epoch 26/65\n",
            "157/157 [==============================] - 11s 73ms/step - loss: 1.8933 - RMSE: 0.9914 - val_loss: 1.8599 - val_RMSE: 0.9832\n",
            "Epoch 27/65\n",
            "157/157 [==============================] - 13s 80ms/step - loss: 1.8324 - RMSE: 0.9834 - val_loss: 1.8016 - val_RMSE: 0.9764\n",
            "Epoch 28/65\n",
            "157/157 [==============================] - 11s 73ms/step - loss: 1.7755 - RMSE: 0.9768 - val_loss: 1.7471 - val_RMSE: 0.9704\n",
            "Epoch 29/65\n",
            "157/157 [==============================] - 11s 73ms/step - loss: 1.7224 - RMSE: 0.9700 - val_loss: 1.6961 - val_RMSE: 0.9651\n",
            "Epoch 30/65\n",
            "157/157 [==============================] - 12s 74ms/step - loss: 1.6728 - RMSE: 0.9653 - val_loss: 1.6494 - val_RMSE: 0.9615\n",
            "Epoch 31/65\n",
            "157/157 [==============================] - 11s 73ms/step - loss: 1.6264 - RMSE: 0.9605 - val_loss: 1.6050 - val_RMSE: 0.9574\n",
            "Epoch 32/65\n",
            "157/157 [==============================] - 12s 74ms/step - loss: 1.5831 - RMSE: 0.9560 - val_loss: 1.5633 - val_RMSE: 0.9536\n",
            "Epoch 33/65\n",
            "157/157 [==============================] - 12s 74ms/step - loss: 1.5425 - RMSE: 0.9520 - val_loss: 1.5255 - val_RMSE: 0.9515\n",
            "Epoch 34/65\n",
            "157/157 [==============================] - 11s 73ms/step - loss: 1.5046 - RMSE: 0.9487 - val_loss: 1.4891 - val_RMSE: 0.9488\n",
            "Epoch 35/65\n",
            "157/157 [==============================] - 11s 73ms/step - loss: 1.4691 - RMSE: 0.9459 - val_loss: 1.4595 - val_RMSE: 0.9506\n",
            "Epoch 36/65\n",
            "157/157 [==============================] - 11s 73ms/step - loss: 1.4358 - RMSE: 0.9437 - val_loss: 1.4243 - val_RMSE: 0.9453\n",
            "Epoch 37/65\n",
            "157/157 [==============================] - 12s 74ms/step - loss: 1.4046 - RMSE: 0.9410 - val_loss: 1.3929 - val_RMSE: 0.9417\n",
            "Epoch 38/65\n",
            "157/157 [==============================] - 12s 73ms/step - loss: 1.3754 - RMSE: 0.9387 - val_loss: 1.3652 - val_RMSE: 0.9403\n",
            "Epoch 39/65\n",
            "157/157 [==============================] - 12s 74ms/step - loss: 1.3481 - RMSE: 0.9372 - val_loss: 1.3403 - val_RMSE: 0.9400\n",
            "Epoch 40/65\n",
            "157/157 [==============================] - 12s 74ms/step - loss: 1.3225 - RMSE: 0.9355 - val_loss: 1.3144 - val_RMSE: 0.9372\n",
            "Epoch 41/65\n",
            "157/157 [==============================] - 11s 73ms/step - loss: 1.2985 - RMSE: 0.9343 - val_loss: 1.2930 - val_RMSE: 0.9377\n",
            "Epoch 42/65\n",
            "157/157 [==============================] - 13s 81ms/step - loss: 1.2762 - RMSE: 0.9329 - val_loss: 1.2707 - val_RMSE: 0.9358\n",
            "Epoch 43/65\n",
            "157/157 [==============================] - 11s 73ms/step - loss: 1.2551 - RMSE: 0.9316 - val_loss: 1.2500 - val_RMSE: 0.9343\n",
            "Epoch 44/65\n",
            "157/157 [==============================] - 12s 73ms/step - loss: 1.2352 - RMSE: 0.9308 - val_loss: 1.2309 - val_RMSE: 0.9334\n",
            "Epoch 45/65\n",
            "157/157 [==============================] - 11s 73ms/step - loss: 1.2168 - RMSE: 0.9293 - val_loss: 1.2189 - val_RMSE: 0.9382\n",
            "Epoch 46/65\n",
            "157/157 [==============================] - 12s 73ms/step - loss: 1.1995 - RMSE: 0.9281 - val_loss: 1.1967 - val_RMSE: 0.9321\n",
            "Epoch 47/65\n",
            "157/157 [==============================] - 12s 74ms/step - loss: 1.1832 - RMSE: 0.9280 - val_loss: 1.1848 - val_RMSE: 0.9355\n",
            "Epoch 48/65\n",
            "157/157 [==============================] - 12s 74ms/step - loss: 1.1679 - RMSE: 0.9269 - val_loss: 1.1666 - val_RMSE: 0.9312\n",
            "Epoch 49/65\n",
            "157/157 [==============================] - 12s 74ms/step - loss: 1.1536 - RMSE: 0.9264 - val_loss: 1.1557 - val_RMSE: 0.9337\n",
            "Epoch 50/65\n",
            "157/157 [==============================] - 12s 74ms/step - loss: 1.1400 - RMSE: 0.9250 - val_loss: 1.1399 - val_RMSE: 0.9303\n",
            "Epoch 51/65\n",
            "157/157 [==============================] - 12s 74ms/step - loss: 1.1276 - RMSE: 0.9253 - val_loss: 1.1293 - val_RMSE: 0.9312\n",
            "Epoch 52/65\n",
            "157/157 [==============================] - 12s 74ms/step - loss: 1.1159 - RMSE: 0.9256 - val_loss: 1.1166 - val_RMSE: 0.9300\n",
            "Epoch 53/65\n",
            "157/157 [==============================] - 12s 74ms/step - loss: 1.1047 - RMSE: 0.9243 - val_loss: 1.1091 - val_RMSE: 0.9327\n",
            "Epoch 54/65\n",
            "157/157 [==============================] - 12s 75ms/step - loss: 1.0944 - RMSE: 0.9251 - val_loss: 1.1021 - val_RMSE: 0.9357\n",
            "Epoch 55/65\n",
            "157/157 [==============================] - 12s 74ms/step - loss: 1.0847 - RMSE: 0.9243 - val_loss: 1.0897 - val_RMSE: 0.9324\n",
            "Epoch 56/65\n",
            "157/157 [==============================] - 12s 76ms/step - loss: 1.0755 - RMSE: 0.9239 - val_loss: 1.0859 - val_RMSE: 0.9374\n",
            "Epoch 57/65\n",
            "157/157 [==============================] - 13s 82ms/step - loss: 1.0669 - RMSE: 0.9235 - val_loss: 1.0771 - val_RMSE: 0.9367\n",
            "Epoch 58/65\n",
            "157/157 [==============================] - 12s 75ms/step - loss: 1.0591 - RMSE: 0.9234 - val_loss: 1.0695 - val_RMSE: 0.9366\n",
            "Epoch 59/65\n",
            "157/157 [==============================] - 12s 74ms/step - loss: 1.0511 - RMSE: 0.9229 - val_loss: 1.0545 - val_RMSE: 0.9287\n",
            "Epoch 60/65\n",
            "157/157 [==============================] - 12s 74ms/step - loss: 1.0440 - RMSE: 0.9233 - val_loss: 1.0495 - val_RMSE: 0.9306\n",
            "Epoch 61/65\n",
            "157/157 [==============================] - 12s 75ms/step - loss: 1.0373 - RMSE: 0.9224 - val_loss: 1.0408 - val_RMSE: 0.9281\n",
            "Epoch 62/65\n",
            "157/157 [==============================] - 12s 76ms/step - loss: 1.0312 - RMSE: 0.9234 - val_loss: 1.0353 - val_RMSE: 0.9286\n",
            "Epoch 63/65\n",
            "157/157 [==============================] - 12s 75ms/step - loss: 1.0252 - RMSE: 0.9226 - val_loss: 1.0298 - val_RMSE: 0.9288\n",
            "Epoch 64/65\n",
            "157/157 [==============================] - 12s 74ms/step - loss: 1.0198 - RMSE: 0.9229 - val_loss: 1.0312 - val_RMSE: 0.9356\n",
            "Epoch 65/65\n",
            "157/157 [==============================] - 12s 74ms/step - loss: 1.0146 - RMSE: 0.9228 - val_loss: 1.0222 - val_RMSE: 0.9312\n"
          ]
        }
      ]
    },
    {
      "cell_type": "code",
      "source": [
        "import matplotlib.pyplot as plt\n",
        "plt.figure(figsize=(10,10))\n",
        "plt.plot(result.history['RMSE'], label='Train RMSE')\n",
        "plt.plot(result.history['val_RMSE'], label='Test RMSE')\n",
        "plt.legend()\n",
        "plt.show()"
      ],
      "metadata": {
        "id": "AeR2NPykFGpZ",
        "outputId": "73d81f8c-8417-4623-90b3-13e2ed9760fa",
        "colab": {
          "base_uri": "https://localhost:8080/",
          "height": 592
        }
      },
      "execution_count": 16,
      "outputs": [
        {
          "output_type": "display_data",
          "data": {
            "text/plain": [
              "<Figure size 720x720 with 1 Axes>"
            ],
            "image/png": "[encoded data removed]"
          },
          "metadata": {
            "needs_background": "light"
          }
        }
      ]
    },
    {
      "cell_type": "markdown",
      "source": [
        "flucation 발생 -> 과적합\n"
      ],
      "metadata": {
        "id": "j0xV6zq9Fbzr"
      }
    },
    {
      "cell_type": "code",
      "source": [
        "u_cols = ['user_id','age','sex','occupation','zip_code']\n",
        "userdata_dic = '/content/drive/MyDrive/Recosys/Data/u.user'\n",
        "users = pd.read_csv(userdata_dic,\n",
        "                    names=u_cols,\n",
        "                    sep='|',\n",
        "                    encoding='latin-1')\n",
        "users = users[['user_id','occupation']]\n",
        "\n",
        "occupation = {}\n",
        "def convert_occ(x):\n",
        "  if x in occupation:\n",
        "    return occupation[x]\n",
        "  else:\n",
        "    occupation[x] = len(occupation) # 새로운 값 저장하기(직업 인덱스 부여)\n",
        "    return occupation[x]\n",
        "\n",
        "users['occupation'] = users['occupation'].apply(convert_occ)\n",
        "\n",
        "L = len(occupation)\n",
        "\n",
        "train_occ = pd.merge(ratings_train, users, on='user_id')['occupation']\n",
        "test_occ = pd.merge(ratings_test, users, on='user_id')['occupation']\n",
        "\n",
        "\n",
        "# Variable 초기화 \n",
        "k=200 # latent vec\n",
        "mu = ratings_train.rating.mean() # 전체 평균\n",
        "#  +1 은 bias term.의 크기 고려\n",
        "# 다른데이터에서는 유니크한 개수 + 1 을 해줘야! \n",
        "M = ratings.user_id.max() + 1\n",
        "N = ratings.movie_id.max() + 1 \n",
        "\n",
        "user = Input(shape=(1,))\n",
        "item = Input(shape=(1,))\n",
        "\n",
        "P_embedding = Embedding(M,k,embeddings_regularizer=l2())(user)\n",
        "Q_embedding = Embedding(N,k,embeddings_regularizer=l2())(item)\n",
        "\n",
        "# 사용자 bias와 아이템 bias를 1개의 노드를 갖는 layer로 변환\n",
        "user_bias = Embedding(M,1,embeddings_regularizer=l2())(user)\n",
        "item_bias = Embedding(N,1,embeddings_regularizer=l2())(item)\n",
        "\n",
        "P_embedding = Flatten()(P_embedding)\n",
        "Q_embedding = Flatten()(Q_embedding)\n",
        "\n",
        "user_bias = Flatten()(user_bias)\n",
        "item_bias = Flatten()(item_bias)\n",
        "\n",
        "occ = Input(shape=(1,))\n",
        "OCC_embedding = Embedding(L,3,embeddings_regularizer=l2())(occ)\n",
        "OCC_layer = Flatten()(OCC_embedding)\n",
        "\n",
        "R = Concatenate()([P_embedding, Q_embedding, user_bias, item_bias, OCC_layer])\n",
        "\n",
        "R = Dense(2048)(R)\n",
        "R = Activation('linear')(R)\n",
        "R = Dense(256)(R)\n",
        "R = Activation('linear')(R)\n",
        "R = Dense(1)(R)\n",
        "\n",
        "model = Model(inputs=[user,item,occ],outputs=R)\n",
        "\n",
        "model.compile(loss=RMSE,\n",
        "              optimizer=SGD(),\n",
        "              metrics=[RMSE])\n",
        "model.summary()"
      ],
      "metadata": {
        "id": "ytL_MoN-WUS6",
        "outputId": "7844bbfc-2c33-4575-c387-e7bbb30d18cd",
        "colab": {
          "base_uri": "https://localhost:8080/"
        }
      },
      "execution_count": 24,
      "outputs": [
        {
          "output_type": "stream",
          "name": "stdout",
          "text": [
            "Model: \"model_2\"\n",
            "__________________________________________________________________________________________________\n",
            " Layer (type)                   Output Shape         Param #     Connected to                     \n",
            "==================================================================================================\n",
            " input_13 (InputLayer)          [(None, 1)]          0           []                               \n",
            "                                                                                                  \n",
            " input_14 (InputLayer)          [(None, 1)]          0           []                               \n",
            "                                                                                                  \n",
            " input_15 (InputLayer)          [(None, 1)]          0           []                               \n",
            "                                                                                                  \n",
            " embedding_8 (Embedding)        (None, 1, 200)       188800      ['input_13[0][0]']               \n",
            "                                                                                                  \n",
            " embedding_9 (Embedding)        (None, 1, 200)       336600      ['input_14[0][0]']               \n",
            "                                                                                                  \n",
            " embedding_10 (Embedding)       (None, 1, 1)         944         ['input_13[0][0]']               \n",
            "                                                                                                  \n",
            " embedding_11 (Embedding)       (None, 1, 1)         1683        ['input_14[0][0]']               \n",
            "                                                                                                  \n",
            " embedding_12 (Embedding)       (None, 1, 3)         63          ['input_15[0][0]']               \n",
            "                                                                                                  \n",
            " flatten_10 (Flatten)           (None, 200)          0           ['embedding_8[0][0]']            \n",
            "                                                                                                  \n",
            " flatten_11 (Flatten)           (None, 200)          0           ['embedding_9[0][0]']            \n",
            "                                                                                                  \n",
            " flatten_12 (Flatten)           (None, 1)            0           ['embedding_10[0][0]']           \n",
            "                                                                                                  \n",
            " flatten_13 (Flatten)           (None, 1)            0           ['embedding_11[0][0]']           \n",
            "                                                                                                  \n",
            " flatten_14 (Flatten)           (None, 3)            0           ['embedding_12[0][0]']           \n",
            "                                                                                                  \n",
            " concatenate_1 (Concatenate)    (None, 405)          0           ['flatten_10[0][0]',             \n",
            "                                                                  'flatten_11[0][0]',             \n",
            "                                                                  'flatten_12[0][0]',             \n",
            "                                                                  'flatten_13[0][0]',             \n",
            "                                                                  'flatten_14[0][0]']             \n",
            "                                                                                                  \n",
            " dense_3 (Dense)                (None, 2048)         831488      ['concatenate_1[0][0]']          \n",
            "                                                                                                  \n",
            " activation_2 (Activation)      (None, 2048)         0           ['dense_3[0][0]']                \n",
            "                                                                                                  \n",
            " dense_4 (Dense)                (None, 256)          524544      ['activation_2[0][0]']           \n",
            "                                                                                                  \n",
            " activation_3 (Activation)      (None, 256)          0           ['dense_4[0][0]']                \n",
            "                                                                                                  \n",
            " dense_5 (Dense)                (None, 1)            257         ['activation_3[0][0]']           \n",
            "                                                                                                  \n",
            "==================================================================================================\n",
            "Total params: 1,884,379\n",
            "Trainable params: 1,884,379\n",
            "Non-trainable params: 0\n",
            "__________________________________________________________________________________________________\n"
          ]
        }
      ]
    },
    {
      "cell_type": "code",
      "source": [
        "# 입력 데이터 정리\n",
        "train_user_ids = ratings_train.user_id.values\n",
        "train_movie_ids = ratings_train.movie_id.values\n",
        "train_ratings = ratings_train.rating.values\n",
        "train_occs = train_occ.values\n",
        "\n",
        "test_user_ids = ratings_test.user_id.values\n",
        "test_movie_ids = ratings_test.movie_id.values\n",
        "test_ratings = ratings_test.rating.values\n",
        "test_occs = test_occ.values\n"
      ],
      "metadata": {
        "id": "_3_OJtnkZxTJ"
      },
      "execution_count": 25,
      "outputs": []
    },
    {
      "cell_type": "code",
      "source": [
        "result = model.fit(x = [train_user_ids, train_movie_ids, train_occs],\n",
        "                   y = train_ratings - mu,\n",
        "                   epochs=65,\n",
        "                   batch_size = 512,\n",
        "                   validation_data=([test_user_ids, test_movie_ids, test_occs],\n",
        "                                    test_ratings -mu))"
      ],
      "metadata": {
        "id": "vHEJ1Mhea_6W",
        "outputId": "825c631f-5d62-4191-af04-e98794096224",
        "colab": {
          "base_uri": "https://localhost:8080/"
        }
      },
      "execution_count": 26,
      "outputs": [
        {
          "output_type": "stream",
          "name": "stdout",
          "text": [
            "Epoch 1/65\n",
            "157/157 [==============================] - 18s 109ms/step - loss: 5.3986 - RMSE: 1.1267 - val_loss: 5.2555 - val_RMSE: 1.1176\n",
            "Epoch 2/65\n",
            "157/157 [==============================] - 16s 105ms/step - loss: 5.1368 - RMSE: 1.1246 - val_loss: 5.0020 - val_RMSE: 1.1159\n",
            "Epoch 3/65\n",
            "157/157 [==============================] - 17s 106ms/step - loss: 4.8910 - RMSE: 1.1231 - val_loss: 4.7640 - val_RMSE: 1.1143\n",
            "Epoch 4/65\n",
            "157/157 [==============================] - 17s 107ms/step - loss: 4.6603 - RMSE: 1.1222 - val_loss: 4.5405 - val_RMSE: 1.1128\n",
            "Epoch 5/65\n",
            "157/157 [==============================] - 16s 104ms/step - loss: 4.4435 - RMSE: 1.1206 - val_loss: 4.3304 - val_RMSE: 1.1112\n",
            "Epoch 6/65\n",
            "157/157 [==============================] - 17s 107ms/step - loss: 4.2397 - RMSE: 1.1178 - val_loss: 4.1331 - val_RMSE: 1.1096\n",
            "Epoch 7/65\n",
            "157/157 [==============================] - 16s 104ms/step - loss: 4.0482 - RMSE: 1.1164 - val_loss: 3.9476 - val_RMSE: 1.1077\n",
            "Epoch 8/65\n",
            "157/157 [==============================] - 18s 117ms/step - loss: 3.8682 - RMSE: 1.1148 - val_loss: 3.7731 - val_RMSE: 1.1057\n",
            "Epoch 9/65\n",
            "157/157 [==============================] - 12s 75ms/step - loss: 3.6987 - RMSE: 1.1122 - val_loss: 3.6089 - val_RMSE: 1.1034\n",
            "Epoch 10/65\n",
            "157/157 [==============================] - 12s 74ms/step - loss: 3.5394 - RMSE: 1.1101 - val_loss: 3.4544 - val_RMSE: 1.1009\n",
            "Epoch 11/65\n",
            "157/157 [==============================] - 12s 74ms/step - loss: 3.3893 - RMSE: 1.1081 - val_loss: 3.3089 - val_RMSE: 1.0980\n",
            "Epoch 12/65\n",
            "157/157 [==============================] - 12s 75ms/step - loss: 3.2478 - RMSE: 1.1043 - val_loss: 3.1717 - val_RMSE: 1.0947\n",
            "Epoch 13/65\n",
            "157/157 [==============================] - 12s 75ms/step - loss: 3.1143 - RMSE: 1.1005 - val_loss: 3.0423 - val_RMSE: 1.0908\n",
            "Epoch 14/65\n",
            "157/157 [==============================] - 12s 75ms/step - loss: 2.9883 - RMSE: 1.0969 - val_loss: 2.9200 - val_RMSE: 1.0864\n",
            "Epoch 15/65\n",
            "157/157 [==============================] - 12s 75ms/step - loss: 2.8691 - RMSE: 1.0924 - val_loss: 2.8044 - val_RMSE: 1.0813\n",
            "Epoch 16/65\n",
            "157/157 [==============================] - 12s 75ms/step - loss: 2.7564 - RMSE: 1.0857 - val_loss: 2.6948 - val_RMSE: 1.0753\n",
            "Epoch 17/65\n",
            "157/157 [==============================] - 12s 75ms/step - loss: 2.6493 - RMSE: 1.0795 - val_loss: 2.5911 - val_RMSE: 1.0688\n",
            "Epoch 18/65\n",
            "157/157 [==============================] - 12s 75ms/step - loss: 2.5479 - RMSE: 1.0728 - val_loss: 2.4923 - val_RMSE: 1.0612\n",
            "Epoch 19/65\n",
            "157/157 [==============================] - 12s 76ms/step - loss: 2.4515 - RMSE: 1.0648 - val_loss: 2.3987 - val_RMSE: 1.0530\n",
            "Epoch 20/65\n",
            "157/157 [==============================] - 13s 82ms/step - loss: 2.3598 - RMSE: 1.0554 - val_loss: 2.3099 - val_RMSE: 1.0442\n",
            "Epoch 21/65\n",
            "157/157 [==============================] - 12s 74ms/step - loss: 2.2729 - RMSE: 1.0469 - val_loss: 2.2255 - val_RMSE: 1.0349\n",
            "Epoch 22/65\n",
            "157/157 [==============================] - 12s 75ms/step - loss: 2.1902 - RMSE: 1.0366 - val_loss: 2.1455 - val_RMSE: 1.0254\n",
            "Epoch 23/65\n",
            "157/157 [==============================] - 12s 75ms/step - loss: 2.1120 - RMSE: 1.0271 - val_loss: 2.0700 - val_RMSE: 1.0160\n",
            "Epoch 24/65\n",
            "157/157 [==============================] - 12s 75ms/step - loss: 2.0381 - RMSE: 1.0175 - val_loss: 1.9990 - val_RMSE: 1.0070\n",
            "Epoch 25/65\n",
            "157/157 [==============================] - 12s 75ms/step - loss: 1.9684 - RMSE: 1.0075 - val_loss: 1.9316 - val_RMSE: 0.9980\n",
            "Epoch 26/65\n",
            "157/157 [==============================] - 12s 75ms/step - loss: 1.9029 - RMSE: 0.9987 - val_loss: 1.8699 - val_RMSE: 0.9912\n",
            "Epoch 27/65\n",
            "157/157 [==============================] - 12s 75ms/step - loss: 1.8415 - RMSE: 0.9908 - val_loss: 1.8102 - val_RMSE: 0.9833\n",
            "Epoch 28/65\n",
            "157/157 [==============================] - 12s 75ms/step - loss: 1.7839 - RMSE: 0.9834 - val_loss: 1.7547 - val_RMSE: 0.9764\n",
            "Epoch 29/65\n",
            "157/157 [==============================] - 12s 76ms/step - loss: 1.7300 - RMSE: 0.9762 - val_loss: 1.7033 - val_RMSE: 0.9707\n",
            "Epoch 30/65\n",
            "157/157 [==============================] - 12s 75ms/step - loss: 1.6798 - RMSE: 0.9701 - val_loss: 1.6551 - val_RMSE: 0.9655\n",
            "Epoch 31/65\n",
            "157/157 [==============================] - 12s 75ms/step - loss: 1.6328 - RMSE: 0.9656 - val_loss: 1.6104 - val_RMSE: 0.9613\n",
            "Epoch 32/65\n",
            "157/157 [==============================] - 12s 75ms/step - loss: 1.5890 - RMSE: 0.9604 - val_loss: 1.5685 - val_RMSE: 0.9575\n",
            "Epoch 33/65\n",
            "157/157 [==============================] - 13s 83ms/step - loss: 1.5480 - RMSE: 0.9563 - val_loss: 1.5291 - val_RMSE: 0.9539\n",
            "Epoch 34/65\n",
            "157/157 [==============================] - 12s 75ms/step - loss: 1.5094 - RMSE: 0.9524 - val_loss: 1.4945 - val_RMSE: 0.9528\n",
            "Epoch 35/65\n",
            "157/157 [==============================] - 12s 76ms/step - loss: 1.4735 - RMSE: 0.9495 - val_loss: 1.4586 - val_RMSE: 0.9486\n",
            "Epoch 36/65\n",
            "157/157 [==============================] - 12s 75ms/step - loss: 1.4399 - RMSE: 0.9460 - val_loss: 1.4263 - val_RMSE: 0.9461\n",
            "Epoch 37/65\n",
            "157/157 [==============================] - 12s 75ms/step - loss: 1.4083 - RMSE: 0.9433 - val_loss: 1.3960 - val_RMSE: 0.9438\n",
            "Epoch 38/65\n",
            "157/157 [==============================] - 12s 75ms/step - loss: 1.3789 - RMSE: 0.9418 - val_loss: 1.3706 - val_RMSE: 0.9447\n",
            "Epoch 39/65\n",
            "157/157 [==============================] - 12s 75ms/step - loss: 1.3513 - RMSE: 0.9387 - val_loss: 1.3438 - val_RMSE: 0.9426\n",
            "Epoch 40/65\n",
            "157/157 [==============================] - 12s 76ms/step - loss: 1.3254 - RMSE: 0.9374 - val_loss: 1.3215 - val_RMSE: 0.9435\n",
            "Epoch 41/65\n",
            "157/157 [==============================] - 12s 77ms/step - loss: 1.3014 - RMSE: 0.9355 - val_loss: 1.2952 - val_RMSE: 0.9389\n",
            "Epoch 42/65\n",
            "157/157 [==============================] - 13s 81ms/step - loss: 1.2786 - RMSE: 0.9337 - val_loss: 1.2721 - val_RMSE: 0.9363\n",
            "Epoch 43/65\n",
            "157/157 [==============================] - 12s 76ms/step - loss: 1.2571 - RMSE: 0.9326 - val_loss: 1.2522 - val_RMSE: 0.9356\n",
            "Epoch 44/65\n",
            "157/157 [==============================] - 12s 76ms/step - loss: 1.2373 - RMSE: 0.9317 - val_loss: 1.2343 - val_RMSE: 0.9359\n",
            "Epoch 45/65\n",
            "157/157 [==============================] - 12s 78ms/step - loss: 1.2186 - RMSE: 0.9299 - val_loss: 1.2151 - val_RMSE: 0.9337\n",
            "Epoch 46/65\n",
            "157/157 [==============================] - 13s 84ms/step - loss: 1.2011 - RMSE: 0.9295 - val_loss: 1.1981 - val_RMSE: 0.9327\n",
            "Epoch 47/65\n",
            "157/157 [==============================] - 12s 77ms/step - loss: 1.1849 - RMSE: 0.9285 - val_loss: 1.1840 - val_RMSE: 0.9338\n",
            "Epoch 48/65\n",
            "157/157 [==============================] - 12s 76ms/step - loss: 1.1693 - RMSE: 0.9275 - val_loss: 1.1678 - val_RMSE: 0.9317\n",
            "Epoch 49/65\n",
            "157/157 [==============================] - 12s 76ms/step - loss: 1.1551 - RMSE: 0.9271 - val_loss: 1.1541 - val_RMSE: 0.9313\n",
            "Epoch 50/65\n",
            "157/157 [==============================] - 12s 76ms/step - loss: 1.1415 - RMSE: 0.9261 - val_loss: 1.1416 - val_RMSE: 0.9312\n",
            "Epoch 51/65\n",
            "157/157 [==============================] - 12s 76ms/step - loss: 1.1287 - RMSE: 0.9258 - val_loss: 1.1456 - val_RMSE: 0.9474\n",
            "Epoch 52/65\n",
            "157/157 [==============================] - 12s 77ms/step - loss: 1.1168 - RMSE: 0.9249 - val_loss: 1.1182 - val_RMSE: 0.9309\n",
            "Epoch 53/65\n",
            "157/157 [==============================] - 12s 76ms/step - loss: 1.1056 - RMSE: 0.9244 - val_loss: 1.1081 - val_RMSE: 0.9311\n",
            "Epoch 54/65\n",
            "157/157 [==============================] - 12s 77ms/step - loss: 1.0956 - RMSE: 0.9247 - val_loss: 1.0968 - val_RMSE: 0.9297\n",
            "Epoch 55/65\n",
            "157/157 [==============================] - 12s 77ms/step - loss: 1.0854 - RMSE: 0.9245 - val_loss: 1.0873 - val_RMSE: 0.9294\n",
            "Epoch 56/65\n",
            "157/157 [==============================] - 12s 76ms/step - loss: 1.0761 - RMSE: 0.9237 - val_loss: 1.0843 - val_RMSE: 0.9350\n",
            "Epoch 57/65\n",
            "157/157 [==============================] - 12s 76ms/step - loss: 1.0675 - RMSE: 0.9234 - val_loss: 1.0705 - val_RMSE: 0.9294\n",
            "Epoch 58/65\n",
            "157/157 [==============================] - 12s 79ms/step - loss: 1.0594 - RMSE: 0.9235 - val_loss: 1.0648 - val_RMSE: 0.9313\n",
            "Epoch 59/65\n",
            "157/157 [==============================] - 13s 80ms/step - loss: 1.0519 - RMSE: 0.9237 - val_loss: 1.0548 - val_RMSE: 0.9287\n",
            "Epoch 60/65\n",
            "157/157 [==============================] - 12s 76ms/step - loss: 1.0446 - RMSE: 0.9236 - val_loss: 1.0556 - val_RMSE: 0.9360\n",
            "Epoch 61/65\n",
            "157/157 [==============================] - 12s 76ms/step - loss: 1.0380 - RMSE: 0.9228 - val_loss: 1.0416 - val_RMSE: 0.9285\n",
            "Epoch 62/65\n",
            "157/157 [==============================] - 12s 76ms/step - loss: 1.0316 - RMSE: 0.9230 - val_loss: 1.0376 - val_RMSE: 0.9307\n",
            "Epoch 63/65\n",
            "157/157 [==============================] - 12s 76ms/step - loss: 1.0257 - RMSE: 0.9230 - val_loss: 1.0347 - val_RMSE: 0.9331\n",
            "Epoch 64/65\n",
            "157/157 [==============================] - 12s 77ms/step - loss: 1.0201 - RMSE: 0.9222 - val_loss: 1.0244 - val_RMSE: 0.9283\n",
            "Epoch 65/65\n",
            "157/157 [==============================] - 12s 77ms/step - loss: 1.0149 - RMSE: 0.9228 - val_loss: 1.0290 - val_RMSE: 0.9380\n"
          ]
        }
      ]
    },
    {
      "cell_type": "code",
      "source": [
        "plt.figure(figsize=(10,10))\n",
        "plt.plot(result.history['RMSE'], label='Train RMSE')\n",
        "plt.plot(result.history['val_RMSE'], label='Test RMSE')\n",
        "plt.legend()\n",
        "plt.show()"
      ],
      "metadata": {
        "id": "Sf27YrJvboTb",
        "outputId": "55bb461e-7b9a-4d9e-956c-6962b7c17545",
        "colab": {
          "base_uri": "https://localhost:8080/",
          "height": 592
        }
      },
      "execution_count": 27,
      "outputs": [
        {
          "output_type": "display_data",
          "data": {
            "text/plain": [
              "<Figure size 720x720 with 1 Axes>"
            ],
            "image/png": "[encoded data removed]"
          },
          "metadata": {
            "needs_background": "light"
          }
        }
      ]
    }
  ]
}