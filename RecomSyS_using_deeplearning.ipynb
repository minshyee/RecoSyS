{
  "nbformat": 4,
  "nbformat_minor": 0,
  "metadata": {
    "colab": {
      "name": "RecomSyS using deeplearning.ipynb",
      "provenance": [],
      "mount_file_id": "16GZx6Shfv1uwm1345cQUNO6LT6LbNdp5",
      "authorship_tag": "ABX9TyNQhKOGyk2ufMm7zOtS3a5n",
      "include_colab_link": true
    },
    "kernelspec": {
      "name": "python3",
      "display_name": "Python 3"
    },
    "language_info": {
      "name": "python"
    }
  },
  "cells": [
    {
      "cell_type": "markdown",
      "metadata": {
        "id": "view-in-github",
        "colab_type": "text"
      },
      "source": [
        "<a href=\"https://colab.research.google.com/github/minshyee/RecoSyS/blob/main/RecomSyS_using_deeplearning.ipynb\" target=\"_parent\"><img src=\"https://colab.research.google.com/assets/colab-badge.svg\" alt=\"Open In Colab\"/></a>"
      ]
    },
    {
      "cell_type": "markdown",
      "source": [
        "## 1. Matrix Factorization(MF)을 신경망으로 변환하기"
      ],
      "metadata": {
        "id": "YJnHRabY6gtw"
      }
    },
    {
      "cell_type": "code",
      "execution_count": 2,
      "metadata": {
        "id": "qdn5_jKR27W-"
      },
      "outputs": [],
      "source": [
        "import pandas as pd\n",
        "\n",
        "from sklearn.model_selection import train_test_split\n",
        "\n",
        "import tensorflow as tf\n",
        "from tensorflow.keras import layers\n",
        "from tensorflow.keras.models import Model\n",
        "from tensorflow.keras.layers import Input, Embedding, Dot, Add, Flatten\n",
        "from tensorflow.keras.regularizers import l2\n",
        "from tensorflow.keras.optimizers import SGD, Adamax"
      ]
    },
    {
      "cell_type": "code",
      "source": [
        "r_cols = ['user_id','movie_id','rating','timestamp']\n",
        "data_dic = '/content/drive/MyDrive/Recosys/Data/u.data'\n",
        "ratings = pd.read_csv(data_dic,\n",
        "                      names=r_cols,\n",
        "                      sep='\\t',\n",
        "                      encoding='latin-1')\n",
        "\n",
        "ratings_train, ratings_test = train_test_split(ratings, test_size=0.2, shuffle=True, random_state=2021)"
      ],
      "metadata": {
        "id": "2vX7zESIvciw"
      },
      "execution_count": 16,
      "outputs": []
    },
    {
      "cell_type": "code",
      "source": [
        "# latent vector \n",
        "k = 200\n",
        "\n",
        "mu = ratings_train.rating.mean() # 전체 평균\n",
        "\n",
        "# user가 몇 명이고, 영화가 몇 개인지 세기\n",
        "M = ratings.user_id.max() + 1 # +1은 bias term의 크기\n",
        "N = ratings.movie_id.max() + 1\n",
        "\n",
        "def RMSE(y_true, y_pred):\n",
        "  return tf.sqrt(tf.reduce_mean(tf.square(y_true - y_pred)))"
      ],
      "metadata": {
        "id": "mbMk8Lw9zTTt"
      },
      "execution_count": 8,
      "outputs": []
    },
    {
      "cell_type": "markdown",
      "source": [
        "Keras Layer에 신경망을 구성하기 위한 코드"
      ],
      "metadata": {
        "id": "sVuHWyK71Ggh"
      }
    },
    {
      "cell_type": "code",
      "source": [
        "# 사용자와 아이템의 입력 크기 미리 지정 -> 왜 (1,)?\n",
        "user = Input(shape=(1,))\n",
        "item = Input(shape=(1,))\n",
        "\n",
        "P_embedding = Embedding(M,k,embeddings_regularizer=l2())(user)\n",
        "Q_embedding = Embedding(N,k,embeddings_regularizer=l2())(item)\n",
        "\n",
        "user_bias = Embedding(M,1,embeddings_regularizer=l2())(user)\n",
        "item_bias = Embedding(N,1,embeddings_regularizer=l2())(item)"
      ],
      "metadata": {
        "id": "il5xmbMp0FrA"
      },
      "execution_count": 9,
      "outputs": []
    },
    {
      "cell_type": "markdown",
      "source": [
        "Model Build"
      ],
      "metadata": {
        "id": "ga7qCxdI1MN5"
      }
    },
    {
      "cell_type": "code",
      "source": [
        "R = layers.dot([P_embedding, Q_embedding], axes=(2,2)) # 2번쨰 축(K,K)끼리 연산하겠다 \n",
        "\n",
        "R = layers.add([R,user_bias,item_bias])\n",
        "\n",
        "R = Flatten()(R) # 1차원으로 변경\n",
        "\n",
        "model = Model(inputs=[user,item],outputs=R)\n",
        "model.compile(loss=RMSE,\n",
        "              optimizer=SGD(),\n",
        "              metrics=[RMSE])\n",
        "model.summary()"
      ],
      "metadata": {
        "colab": {
          "base_uri": "https://localhost:8080/"
        },
        "id": "eq98Kihg05aW",
        "outputId": "5dc97e36-05a6-4556-ff59-236108eb3b11"
      },
      "execution_count": 12,
      "outputs": [
        {
          "output_type": "stream",
          "name": "stdout",
          "text": [
            "Model: \"model_2\"\n",
            "__________________________________________________________________________________________________\n",
            " Layer (type)                   Output Shape         Param #     Connected to                     \n",
            "==================================================================================================\n",
            " input_3 (InputLayer)           [(None, 1)]          0           []                               \n",
            "                                                                                                  \n",
            " input_4 (InputLayer)           [(None, 1)]          0           []                               \n",
            "                                                                                                  \n",
            " embedding_4 (Embedding)        (None, 1, 200)       188800      ['input_3[0][0]']                \n",
            "                                                                                                  \n",
            " embedding_5 (Embedding)        (None, 1, 200)       336600      ['input_4[0][0]']                \n",
            "                                                                                                  \n",
            " dot_2 (Dot)                    (None, 1, 1)         0           ['embedding_4[0][0]',            \n",
            "                                                                  'embedding_5[0][0]']            \n",
            "                                                                                                  \n",
            " embedding_6 (Embedding)        (None, 1, 1)         944         ['input_3[0][0]']                \n",
            "                                                                                                  \n",
            " embedding_7 (Embedding)        (None, 1, 1)         1683        ['input_4[0][0]']                \n",
            "                                                                                                  \n",
            " add_2 (Add)                    (None, 1, 1)         0           ['dot_2[0][0]',                  \n",
            "                                                                  'embedding_6[0][0]',            \n",
            "                                                                  'embedding_7[0][0]']            \n",
            "                                                                                                  \n",
            " flatten_2 (Flatten)            (None, 1)            0           ['add_2[0][0]']                  \n",
            "                                                                                                  \n",
            "==================================================================================================\n",
            "Total params: 528,027\n",
            "Trainable params: 528,027\n",
            "Non-trainable params: 0\n",
            "__________________________________________________________________________________________________\n"
          ]
        }
      ]
    },
    {
      "cell_type": "code",
      "source": [
        "result = model.fit(x=[ratings_train.user_id.values,\n",
        "                      ratings_train.movie_id.values],\n",
        "                   y=ratings_train.rating.values - mu,\n",
        "                   \n",
        "                   epochs=60,\n",
        "                   batch_size=256,\n",
        "                   validation_data = ([ratings_test.user_id.values, ratings_test.movie_id.values],\n",
        "                                      ratings_test.rating.values - mu)\n",
        "                   )"
      ],
      "metadata": {
        "colab": {
          "base_uri": "https://localhost:8080/"
        },
        "id": "8OtdDvIx2DOF",
        "outputId": "6e7d1893-44d3-4dbf-d705-555b4dc7a892"
      },
      "execution_count": 21,
      "outputs": [
        {
          "output_type": "stream",
          "name": "stdout",
          "text": [
            "Epoch 1/60\n",
            "313/313 [==============================] - 2s 7ms/step - loss: 1.1110 - RMSE: 1.0972 - val_loss: 1.1041 - val_RMSE: 1.0900\n",
            "Epoch 2/60\n",
            "313/313 [==============================] - 2s 7ms/step - loss: 1.1110 - RMSE: 1.0972 - val_loss: 1.1041 - val_RMSE: 1.0900\n",
            "Epoch 3/60\n",
            "313/313 [==============================] - 2s 7ms/step - loss: 1.1110 - RMSE: 1.0973 - val_loss: 1.1041 - val_RMSE: 1.0900\n",
            "Epoch 4/60\n",
            "313/313 [==============================] - 2s 6ms/step - loss: 1.1108 - RMSE: 1.0971 - val_loss: 1.1041 - val_RMSE: 1.0900\n",
            "Epoch 5/60\n",
            "313/313 [==============================] - 2s 5ms/step - loss: 1.1109 - RMSE: 1.0970 - val_loss: 1.1041 - val_RMSE: 1.0900\n",
            "Epoch 6/60\n",
            "313/313 [==============================] - 2s 6ms/step - loss: 1.1108 - RMSE: 1.0970 - val_loss: 1.1041 - val_RMSE: 1.0900\n",
            "Epoch 7/60\n",
            "313/313 [==============================] - 2s 5ms/step - loss: 1.1110 - RMSE: 1.0971 - val_loss: 1.1041 - val_RMSE: 1.0900\n",
            "Epoch 8/60\n",
            "313/313 [==============================] - 2s 5ms/step - loss: 1.1111 - RMSE: 1.0973 - val_loss: 1.1041 - val_RMSE: 1.0900\n",
            "Epoch 9/60\n",
            "313/313 [==============================] - 2s 5ms/step - loss: 1.1110 - RMSE: 1.0972 - val_loss: 1.1041 - val_RMSE: 1.0900\n",
            "Epoch 10/60\n",
            "313/313 [==============================] - 2s 5ms/step - loss: 1.1109 - RMSE: 1.0970 - val_loss: 1.1041 - val_RMSE: 1.0900\n",
            "Epoch 11/60\n",
            "313/313 [==============================] - 2s 5ms/step - loss: 1.1110 - RMSE: 1.0973 - val_loss: 1.1041 - val_RMSE: 1.0900\n",
            "Epoch 12/60\n",
            "313/313 [==============================] - 2s 5ms/step - loss: 1.1109 - RMSE: 1.0970 - val_loss: 1.1041 - val_RMSE: 1.0900\n",
            "Epoch 13/60\n",
            "313/313 [==============================] - 2s 5ms/step - loss: 1.1110 - RMSE: 1.0972 - val_loss: 1.1041 - val_RMSE: 1.0900\n",
            "Epoch 14/60\n",
            "313/313 [==============================] - 2s 5ms/step - loss: 1.1109 - RMSE: 1.0972 - val_loss: 1.1041 - val_RMSE: 1.0900\n",
            "Epoch 15/60\n",
            "313/313 [==============================] - 2s 5ms/step - loss: 1.1109 - RMSE: 1.0970 - val_loss: 1.1041 - val_RMSE: 1.0900\n",
            "Epoch 16/60\n",
            "313/313 [==============================] - 2s 5ms/step - loss: 1.1110 - RMSE: 1.0973 - val_loss: 1.1041 - val_RMSE: 1.0900\n",
            "Epoch 17/60\n",
            "313/313 [==============================] - 2s 5ms/step - loss: 1.1109 - RMSE: 1.0971 - val_loss: 1.1041 - val_RMSE: 1.0900\n",
            "Epoch 18/60\n",
            "313/313 [==============================] - 2s 6ms/step - loss: 1.1109 - RMSE: 1.0971 - val_loss: 1.1041 - val_RMSE: 1.0900\n",
            "Epoch 19/60\n",
            "313/313 [==============================] - 2s 5ms/step - loss: 1.1109 - RMSE: 1.0970 - val_loss: 1.1041 - val_RMSE: 1.0900\n",
            "Epoch 20/60\n",
            "313/313 [==============================] - 2s 5ms/step - loss: 1.1110 - RMSE: 1.0973 - val_loss: 1.1041 - val_RMSE: 1.0900\n",
            "Epoch 21/60\n",
            "313/313 [==============================] - 2s 5ms/step - loss: 1.1111 - RMSE: 1.0972 - val_loss: 1.1041 - val_RMSE: 1.0900\n",
            "Epoch 22/60\n",
            "313/313 [==============================] - 2s 5ms/step - loss: 1.1109 - RMSE: 1.0971 - val_loss: 1.1041 - val_RMSE: 1.0900\n",
            "Epoch 23/60\n",
            "313/313 [==============================] - 2s 5ms/step - loss: 1.1110 - RMSE: 1.0972 - val_loss: 1.1041 - val_RMSE: 1.0900\n",
            "Epoch 24/60\n",
            "313/313 [==============================] - 2s 5ms/step - loss: 1.1109 - RMSE: 1.0972 - val_loss: 1.1040 - val_RMSE: 1.0900\n",
            "Epoch 25/60\n",
            "313/313 [==============================] - 2s 5ms/step - loss: 1.1111 - RMSE: 1.0973 - val_loss: 1.1040 - val_RMSE: 1.0900\n",
            "Epoch 26/60\n",
            "313/313 [==============================] - 2s 6ms/step - loss: 1.1109 - RMSE: 1.0971 - val_loss: 1.1040 - val_RMSE: 1.0900\n",
            "Epoch 27/60\n",
            "313/313 [==============================] - 2s 5ms/step - loss: 1.1109 - RMSE: 1.0972 - val_loss: 1.1041 - val_RMSE: 1.0900\n",
            "Epoch 28/60\n",
            "313/313 [==============================] - 2s 8ms/step - loss: 1.1111 - RMSE: 1.0973 - val_loss: 1.1041 - val_RMSE: 1.0900\n",
            "Epoch 29/60\n",
            "313/313 [==============================] - 3s 8ms/step - loss: 1.1109 - RMSE: 1.0971 - val_loss: 1.1041 - val_RMSE: 1.0900\n",
            "Epoch 30/60\n",
            "313/313 [==============================] - 2s 5ms/step - loss: 1.1110 - RMSE: 1.0972 - val_loss: 1.1041 - val_RMSE: 1.0900\n",
            "Epoch 31/60\n",
            "313/313 [==============================] - 2s 5ms/step - loss: 1.1109 - RMSE: 1.0969 - val_loss: 1.1041 - val_RMSE: 1.0900\n",
            "Epoch 32/60\n",
            "313/313 [==============================] - 2s 6ms/step - loss: 1.1109 - RMSE: 1.0970 - val_loss: 1.1041 - val_RMSE: 1.0900\n",
            "Epoch 33/60\n",
            "313/313 [==============================] - 2s 5ms/step - loss: 1.1109 - RMSE: 1.0973 - val_loss: 1.1040 - val_RMSE: 1.0900\n",
            "Epoch 34/60\n",
            "313/313 [==============================] - 2s 7ms/step - loss: 1.1110 - RMSE: 1.0972 - val_loss: 1.1041 - val_RMSE: 1.0900\n",
            "Epoch 35/60\n",
            "313/313 [==============================] - 2s 7ms/step - loss: 1.1110 - RMSE: 1.0972 - val_loss: 1.1041 - val_RMSE: 1.0900\n",
            "Epoch 36/60\n",
            "313/313 [==============================] - 2s 5ms/step - loss: 1.1107 - RMSE: 1.0968 - val_loss: 1.1041 - val_RMSE: 1.0900\n",
            "Epoch 37/60\n",
            "313/313 [==============================] - 2s 6ms/step - loss: 1.1108 - RMSE: 1.0970 - val_loss: 1.1041 - val_RMSE: 1.0900\n",
            "Epoch 38/60\n",
            "313/313 [==============================] - 2s 5ms/step - loss: 1.1109 - RMSE: 1.0972 - val_loss: 1.1041 - val_RMSE: 1.0900\n",
            "Epoch 39/60\n",
            "313/313 [==============================] - 2s 5ms/step - loss: 1.1110 - RMSE: 1.0975 - val_loss: 1.1041 - val_RMSE: 1.0900\n",
            "Epoch 40/60\n",
            "313/313 [==============================] - 2s 5ms/step - loss: 1.1109 - RMSE: 1.0973 - val_loss: 1.1041 - val_RMSE: 1.0900\n",
            "Epoch 41/60\n",
            "313/313 [==============================] - 2s 5ms/step - loss: 1.1109 - RMSE: 1.0971 - val_loss: 1.1041 - val_RMSE: 1.0900\n",
            "Epoch 42/60\n",
            "313/313 [==============================] - 2s 5ms/step - loss: 1.1110 - RMSE: 1.0971 - val_loss: 1.1040 - val_RMSE: 1.0900\n",
            "Epoch 43/60\n",
            "313/313 [==============================] - 2s 5ms/step - loss: 1.1110 - RMSE: 1.0970 - val_loss: 1.1041 - val_RMSE: 1.0900\n",
            "Epoch 44/60\n",
            "313/313 [==============================] - 2s 5ms/step - loss: 1.1110 - RMSE: 1.0972 - val_loss: 1.1040 - val_RMSE: 1.0900\n",
            "Epoch 45/60\n",
            "313/313 [==============================] - 2s 5ms/step - loss: 1.1110 - RMSE: 1.0973 - val_loss: 1.1041 - val_RMSE: 1.0900\n",
            "Epoch 46/60\n",
            "313/313 [==============================] - 2s 5ms/step - loss: 1.1110 - RMSE: 1.0972 - val_loss: 1.1041 - val_RMSE: 1.0900\n",
            "Epoch 47/60\n",
            "313/313 [==============================] - 2s 5ms/step - loss: 1.1110 - RMSE: 1.0969 - val_loss: 1.1041 - val_RMSE: 1.0900\n",
            "Epoch 48/60\n",
            "313/313 [==============================] - 2s 5ms/step - loss: 1.1110 - RMSE: 1.0972 - val_loss: 1.1041 - val_RMSE: 1.0900\n",
            "Epoch 49/60\n",
            "313/313 [==============================] - 2s 5ms/step - loss: 1.1109 - RMSE: 1.0972 - val_loss: 1.1041 - val_RMSE: 1.0900\n",
            "Epoch 50/60\n",
            "313/313 [==============================] - 2s 5ms/step - loss: 1.1109 - RMSE: 1.0971 - val_loss: 1.1041 - val_RMSE: 1.0900\n",
            "Epoch 51/60\n",
            "313/313 [==============================] - 2s 6ms/step - loss: 1.1110 - RMSE: 1.0973 - val_loss: 1.1041 - val_RMSE: 1.0900\n",
            "Epoch 52/60\n",
            "313/313 [==============================] - 2s 5ms/step - loss: 1.1109 - RMSE: 1.0972 - val_loss: 1.1041 - val_RMSE: 1.0900\n",
            "Epoch 53/60\n",
            "313/313 [==============================] - 2s 5ms/step - loss: 1.1109 - RMSE: 1.0971 - val_loss: 1.1041 - val_RMSE: 1.0900\n",
            "Epoch 54/60\n",
            "313/313 [==============================] - 2s 5ms/step - loss: 1.1109 - RMSE: 1.0971 - val_loss: 1.1041 - val_RMSE: 1.0900\n",
            "Epoch 55/60\n",
            "313/313 [==============================] - 2s 6ms/step - loss: 1.1109 - RMSE: 1.0971 - val_loss: 1.1041 - val_RMSE: 1.0900\n",
            "Epoch 56/60\n",
            "313/313 [==============================] - 2s 5ms/step - loss: 1.1109 - RMSE: 1.0971 - val_loss: 1.1041 - val_RMSE: 1.0900\n",
            "Epoch 57/60\n",
            "313/313 [==============================] - 2s 5ms/step - loss: 1.1109 - RMSE: 1.0971 - val_loss: 1.1041 - val_RMSE: 1.0900\n",
            "Epoch 58/60\n",
            "313/313 [==============================] - 2s 6ms/step - loss: 1.1109 - RMSE: 1.0971 - val_loss: 1.1041 - val_RMSE: 1.0900\n",
            "Epoch 59/60\n",
            "313/313 [==============================] - 2s 5ms/step - loss: 1.1110 - RMSE: 1.0973 - val_loss: 1.1041 - val_RMSE: 1.0900\n",
            "Epoch 60/60\n",
            "313/313 [==============================] - 2s 5ms/step - loss: 1.1109 - RMSE: 1.0971 - val_loss: 1.1041 - val_RMSE: 1.0900\n"
          ]
        }
      ]
    },
    {
      "cell_type": "code",
      "source": [
        "# PLOT\n",
        "import matplotlib.pyplot as plt\n",
        "plt.plot(result.history['RMSE'], label='Train RMSE')\n",
        "plt.plot(result.history['val_RMSE'], label='Test RMSE')\n",
        "plt.legend()\n",
        "plt.show()"
      ],
      "metadata": {
        "colab": {
          "base_uri": "https://localhost:8080/",
          "height": 265
        },
        "id": "bi6u589d3LTX",
        "outputId": "4bb6c064-8286-4a7b-8d0a-261197582f17"
      },
      "execution_count": 22,
      "outputs": [
        {
          "output_type": "display_data",
          "data": {
            "text/plain": [
              "<Figure size 432x288 with 1 Axes>"
            ],
            "image/png": "[encoded data removed]"
          },
          "metadata": {
            "needs_background": "light"
          }
        }
      ]
    },
    {
      "cell_type": "code",
      "source": [
        "user_ids = ratings_test.user_id.values[0:6]\n",
        "movie_ids = ratings_test.movie_id.values[0:6]\n",
        "\n",
        "predictions = model.predict([user_ids, movie_ids]) + mu"
      ],
      "metadata": {
        "id": "MRg4Inck4az9"
      },
      "execution_count": 23,
      "outputs": []
    },
    {
      "cell_type": "code",
      "source": [
        "print(ratings_test[0:6])"
      ],
      "metadata": {
        "colab": {
          "base_uri": "https://localhost:8080/"
        },
        "id": "R5OAWa-542oC",
        "outputId": "558487ca-19f0-4baf-ed47-8c7b6a2f9e8b"
      },
      "execution_count": 24,
      "outputs": [
        {
          "output_type": "stream",
          "name": "stdout",
          "text": [
            "       user_id  movie_id  rating  timestamp\n",
            "23307      468        51       3  875293386\n",
            "36679       92       780       3  875660494\n",
            "36626      555       489       5  879975455\n",
            "83753      940        69       2  885921265\n",
            "52604      181      1350       1  878962120\n",
            "49877      320       195       5  884749255\n"
          ]
        }
      ]
    },
    {
      "cell_type": "code",
      "source": [
        "print(predictions)"
      ],
      "metadata": {
        "colab": {
          "base_uri": "https://localhost:8080/"
        },
        "id": "GN1LM0zJ48Pl",
        "outputId": "05064b44-fb12-466b-f015-8fae02e6b408"
      },
      "execution_count": 25,
      "outputs": [
        {
          "output_type": "stream",
          "name": "stdout",
          "text": [
            "[[3.555783 ]\n",
            " [3.472084 ]\n",
            " [3.5504608]\n",
            " [3.569458 ]\n",
            " [3.1841257]\n",
            " [3.5975978]]\n"
          ]
        }
      ]
    },
    {
      "cell_type": "code",
      "source": [
        "import numpy as np\n",
        "\n",
        "def RMSE_np(y_true, y_pred):\n",
        "  return np.sqrt(np.mean((np.array(y_true) - np.array(y_pred))**2))"
      ],
      "metadata": {
        "id": "lNtx2WyS5AJn"
      },
      "execution_count": 26,
      "outputs": []
    },
    {
      "cell_type": "code",
      "source": [
        "user_ids = ratings_test.user_id.values\n",
        "movie_ids = ratings_test.movie_id.values\n",
        "\n",
        "y_pred = model.predict([user_ids, movie_ids]) + mu\n",
        "\n",
        "y_pred = np.ravel(y_pred,order='C') # 1차원 형태로 바꾸는 것 - order?\n",
        "\n",
        "y_true = np.array(ratings_test.rating)\n",
        "\n",
        "RMSE_np(y_true, y_pred)"
      ],
      "metadata": {
        "colab": {
          "base_uri": "https://localhost:8080/"
        },
        "id": "OumNIXYy5glB",
        "outputId": "1841a6fe-134d-4f38-bfaa-b89755e9d175"
      },
      "execution_count": 30,
      "outputs": [
        {
          "output_type": "execute_result",
          "data": {
            "text/plain": [
              "1.0909831153232759"
            ]
          },
          "metadata": {},
          "execution_count": 30
        }
      ]
    }
  ]
}