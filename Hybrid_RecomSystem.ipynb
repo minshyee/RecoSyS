{
  "nbformat": 4,
  "nbformat_minor": 0,
  "metadata": {
    "colab": {
      "name": "Hybrid RecomSystem.ipynb",
      "provenance": [],
      "mount_file_id": "1xdstl7aEHpLd1ElssaAyd2H343-TD1EN",
      "authorship_tag": "ABX9TyMGj8x+uMaN1/ggxDKlE4pG",
      "include_colab_link": true
    },
    "kernelspec": {
      "name": "python3",
      "display_name": "Python 3"
    },
    "language_info": {
      "name": "python"
    }
  },
  "cells": [
    {
      "cell_type": "markdown",
      "metadata": {
        "id": "view-in-github",
        "colab_type": "text"
      },
      "source": [
        "<a href=\"https://colab.research.google.com/github/minshyee/RecoSyS/blob/main/Hybrid_RecomSystem.ipynb\" target=\"_parent\"><img src=\"https://colab.research.google.com/assets/colab-badge.svg\" alt=\"Open In Colab\"/></a>"
      ]
    },
    {
      "cell_type": "markdown",
      "source": [
        "# 하이브리드 추천시스템의 원리"
      ],
      "metadata": {
        "id": "JyJSLcif-ZpK"
      }
    },
    {
      "cell_type": "code",
      "execution_count": 1,
      "metadata": {
        "id": "mbQ-BxFG34DG"
      },
      "outputs": [],
      "source": [
        "from sklearn.model_selection import train_test_split\n",
        "import random\n",
        "import numpy as np\n",
        "import pandas as pd"
      ]
    },
    {
      "cell_type": "code",
      "source": [
        "r_cols = ['user_id','movie_id','rating','timestamp']\n",
        "data_src = '/content/drive/MyDrive/Recosys/Data/u.data'\n",
        "ratings = pd.read_csv(data_src, \n",
        "                      names=r_cols,\n",
        "                      sep='\\t',\n",
        "                      encoding='latin-1')\n",
        "\n",
        "ratings_train, ratings_test = train_test_split(ratings,\n",
        "                                               test_size=0.2,\n",
        "                                               shuffle=True,\n",
        "                                               random_state=2021)\n",
        "\n",
        "def RMSE(y_true, y_pred):\n",
        "  return np.sqrt(np.mean((np.array(y_true) - np.array(y_pred))**2))"
      ],
      "metadata": {
        "id": "cM1AOc97-oyk"
      },
      "execution_count": null,
      "outputs": []
    },
    {
      "cell_type": "markdown",
      "source": [
        "### dummy recosys"
      ],
      "metadata": {
        "id": "Z31CV-I8_mSA"
      }
    },
    {
      "cell_type": "code",
      "source": [
        "def recommender_1(recom_list):\n",
        "  recommandations = []\n",
        "  for pair in recom_list:\n",
        "    recommandations.append(random.random() * 4 + 1) # 1-5 사이의 난수(임의의) 평점\n",
        "  return np.array(recommandations)\n",
        "\n",
        "def recommender_2(recom_list):\n",
        "  recommandations = []\n",
        "  for pair in recom_list:\n",
        "    recommandations.append(random.random() * 4 + 1) # 1-5 사이의 난수(임의의) 평점\n",
        "  return np.array(recommandations)"
      ],
      "metadata": {
        "id": "aAB6gR3o_eWo"
      },
      "execution_count": null,
      "outputs": []
    },
    {
      "cell_type": "markdown",
      "source": [
        "### Hybrid"
      ],
      "metadata": {
        "id": "uCgqsaBhASyM"
      }
    },
    {
      "cell_type": "code",
      "source": [
        "weight = [0.8, 0.2]\n",
        "recom_list = np.array(ratings_test)\n",
        "predictions_1 = recommender_1(recom_list)\n",
        "predictions_2 = recommender_2(recom_list)\n",
        "\n",
        "predictions = predictions_1 * weight[0] + predictions_2 * weight[1]\n",
        "RMSE(recom_list[:,2], predictions)"
      ],
      "metadata": {
        "colab": {
          "base_uri": "https://localhost:8080/"
        },
        "id": "zUumOho5_-AV",
        "outputId": "f03ee083-ad63-4f5d-ccc2-9db3c97584d4"
      },
      "execution_count": null,
      "outputs": [
        {
          "output_type": "execute_result",
          "data": {
            "text/plain": [
              "1.5590157722579836"
            ]
          },
          "metadata": {},
          "execution_count": 7
        }
      ]
    },
    {
      "cell_type": "markdown",
      "source": [
        "## CF 와 MF의 결합 추천 시스템"
      ],
      "metadata": {
        "id": "kHew9MNDA-Aq"
      }
    },
    {
      "cell_type": "code",
      "source": [
        "from sklearn.metrics.pairwise import cosine_similarity\n",
        "import os"
      ],
      "metadata": {
        "id": "oK6SCr_3BEtE"
      },
      "execution_count": 2,
      "outputs": []
    },
    {
      "cell_type": "code",
      "source": [
        "from google.colab import drive\n",
        "drive.mount('/content/drive')"
      ],
      "metadata": {
        "colab": {
          "base_uri": "https://localhost:8080/"
        },
        "id": "4Ub-lH5ELqeM",
        "outputId": "efa0aa97-254d-4792-9774-391741db8584"
      },
      "execution_count": 3,
      "outputs": [
        {
          "output_type": "stream",
          "name": "stdout",
          "text": [
            "Drive already mounted at /content/drive; to attempt to forcibly remount, call drive.mount(\"/content/drive\", force_remount=True).\n"
          ]
        }
      ]
    },
    {
      "cell_type": "code",
      "source": [
        "class NEW_MF():\n",
        "  def __init__(self, ratings, hyper_params):\n",
        "    self.R = np.array(ratings)\n",
        "    self.num_users, self.num_items = np.shape(self.R)\n",
        "\n",
        "    self.K = hyper_params['K']\n",
        "    self.alpha = hyper_params['alpha']\n",
        "    self.beta = hyper_params['beta']\n",
        "    self.iterations = hyper_params['iterations']\n",
        "    self.verbose = hyper_params['verbose']\n",
        "\n",
        "    # index 재정렬 + 맵핑\n",
        "    item_id_index = []\n",
        "    index_item_id = []\n",
        "    for i, one_id in enumerate(ratings):\n",
        "      item_id_index.append([one_id, i])\n",
        "      index_item_id.append([i, one_id])\n",
        "    self.item_id_index = dict(item_id_index)\n",
        "    self.index_item_id = dict(index_item_id)\n",
        "\n",
        "    user_id_index = []\n",
        "    index_user_id = []\n",
        "    for i, one_id in enumerate(ratings.T):\n",
        "      user_id_index.append([one_id, i])\n",
        "      index_user_id.append([i, one_id])\n",
        "    self.user_id_index = dict(user_id_index)\n",
        "    self.index_user_id = dict(index_user_id)\n",
        "\n",
        "  def rmse(self):\n",
        "    xs, ys = self.R.nonzero() # 좌표값 받기\n",
        "    self.predictions = []\n",
        "    self.errors = []\n",
        "    for x,y in zip(xs,ys):\n",
        "      prediction = self.get_predict(x,y)\n",
        "      self.predictions.append(prediction)\n",
        "      self.errors.append(self.R[x,y] - prediction)\n",
        "    self.predictions = np.array(self.predictions)\n",
        "    self.errors = np.array(self.errors)\n",
        "    return np.sqrt(np.mean(self.errors**2))\n",
        "\n",
        "  def sgd(self):\n",
        "    for i,j,r in self.samples: # x,y = (i,j) | 평가데이터 r\n",
        "      prediction = self.get_predict(i,j)\n",
        "      e = (r - prediction)\n",
        "\n",
        "      self.b_u[i] += self.alpha * (e - (self.beta * self.b_u[i]))\n",
        "      self.b_d[j] += self.alpha * (e - (self.beta * self.b_d[j]))\n",
        "\n",
        "      self.P[i,:] += self.alpha * ((e * self.Q[j,:]) - (self.beta * self.P[i,:]))\n",
        "      self.Q[j,:] += self.alpha * ((e * self.P[i,:]) - (self.beta * self.Q[j,:]))\n",
        "\n",
        "  def get_predict(self,i,j):\n",
        "    prediction = self.b + self.b_u[i] + self.b_d[j] + self.P[i,:].dot(self.Q[j,:].T)\n",
        "    return prediction\n",
        "\n",
        "  def set_test(self,ratings_test):\n",
        "    test_set = []\n",
        "    for i in range(len(ratings_test)):\n",
        "      x = self.user_id_index[ratings_test.iloc[i,0]]\n",
        "      y = self.item_id_index[ratings_test.iloc[i,1]]\n",
        "      z = ratings_test.iloc[i,2]\n",
        "      test_set.append([x,y,z])\n",
        "      self.R[x,y] = 0\n",
        "    self.test_set = test_set\n",
        "    return test_set\n",
        "\n",
        "  def test_rmse(self):\n",
        "    error = 0\n",
        "    for one_set in self.test_set:\n",
        "      predicted = self.get_predict(one_set[0], one_set[1])\n",
        "      error += pow(one_set[2] - predicted, 2)\n",
        "    return np.sqrt(error/len(self.test_set))\n",
        "\n",
        "  def test(self):\n",
        "    self.P = np.random.normal(scale=1./self.K,\n",
        "                              size=(self.num_users,self.K))\n",
        "    self.Q = np.random.normal(scale=1./self.K,\n",
        "                              size=(self.num_items,self.K))\n",
        "    self.b_u = np.zeros(self.num_users)\n",
        "    self.b_d = np.zeros(self.num_items)\n",
        "    self.b = np.mean(self.R[self.R.nonzero()])\n",
        "\n",
        "    rows, columns = self.R.nonzero()\n",
        "    self.samples = [(i,j,self.R[i,j]) for i, j in zip(rows, columns)]\n",
        "\n",
        "    training_process = []\n",
        "    for i in range(self.iterations):\n",
        "      np.random.shuffle(self.samples)\n",
        "      self.sgd()\n",
        "      rmse_train = self.rmse()\n",
        "      rmse_test = self.test_rmse()\n",
        "      training_process.append((i+1, rmse_train, rmse_test))\n",
        "      if self.verbose:\n",
        "        if (i+1) % 10 == 0:\n",
        "          print(f\"Iteration : {i+1} | Train RMSE : {rmse_train} | Test RMSE : {rmse_test}\")\n",
        "    \n",
        "    return training_process\n",
        "\n",
        "  def get_one_predict(self,user_id,item_id):\n",
        "    return self.get_predict(self.user_id_index[user_id],\n",
        "                            self.item_id_index[item_id])\n",
        "    \n",
        "  def full_predict(self):\n",
        "    return self.b + self.b_u[:, np.newaxis] + self.b_d[np.newaxis, :] + self.P.dot(self.Q.T)"
      ],
      "metadata": {
        "id": "kNriZhXTEjXw"
      },
      "execution_count": 4,
      "outputs": []
    },
    {
      "cell_type": "code",
      "source": [
        "base_src = '/content/drive/MyDrive/Recosys/Data'\n",
        "u_data_src = os.path.join(base_src,'u.data')\n",
        "r_cols = ['user_id', 'movie_id', 'rating', 'timestamp']\n",
        "ratings = pd.read_csv(u_data_src,\n",
        "                      sep='\\t',\n",
        "                      names=r_cols,\n",
        "                      encoding='latin-1')\n",
        "\n",
        "R_temp = ratings.pivot(index='user_id',\n",
        "                       columns='movie_id',\n",
        "                       values='rating').fillna(0)\n",
        "\n",
        "ratings_train, ratings_test = train_test_split(ratings, test_size=0.2,\n",
        "                                               shuffle=True,\n",
        "                                               random_state=2021)\n",
        "\n",
        "hyper_params = {'K':30,\n",
        "                'alpha':0.001,\n",
        "                'beta':0.02,\n",
        "                'iterations':100,\n",
        "                'verbose':True\n",
        "                }\n",
        "\n",
        "mf = NEW_MF(R_temp,hyper_params)\n",
        "test_set = mf.set_test(ratings_test)\n",
        "result = mf.test()"
      ],
      "metadata": {
        "id": "Hungypd9ObUj",
        "colab": {
          "base_uri": "https://localhost:8080/"
        },
        "outputId": "0bfb7792-7a83-4f4f-94be-33c1b051173b"
      },
      "execution_count": 5,
      "outputs": [
        {
          "output_type": "stream",
          "name": "stdout",
          "text": [
            "Iteration : 10 | Train RMSE : 0.9675487915022118 | Test RMSE : 0.9686949463988526\n",
            "Iteration : 20 | Train RMSE : 0.9436343816665653 | Test RMSE : 0.9488925519125235\n",
            "Iteration : 30 | Train RMSE : 0.9328495568752477 | Test RMSE : 0.9410437364972402\n",
            "Iteration : 40 | Train RMSE : 0.926396227884399 | Test RMSE : 0.9369473782623232\n",
            "Iteration : 50 | Train RMSE : 0.9218466443997693 | Test RMSE : 0.93448556535977\n",
            "Iteration : 60 | Train RMSE : 0.9181089521251821 | Test RMSE : 0.9328534261191967\n",
            "Iteration : 70 | Train RMSE : 0.9145319107724595 | Test RMSE : 0.931580155553979\n",
            "Iteration : 80 | Train RMSE : 0.9105811065864007 | Test RMSE : 0.9304330121867795\n",
            "Iteration : 90 | Train RMSE : 0.9056923871078628 | Test RMSE : 0.9291106497599435\n",
            "Iteration : 100 | Train RMSE : 0.8992331733616449 | Test RMSE : 0.9273652390083715\n"
          ]
        }
      ]
    },
    {
      "cell_type": "code",
      "source": [
        "rating_matrix = ratings_train.pivot(index='user_id', columns='movie_id', values='rating')\n",
        "\n",
        "rating_mean = rating_matrix.mean(axis=1)\n",
        "rating_bias = (rating_matrix.T - rating_mean).T\n",
        "\n",
        "matrix_dummy = rating_matrix.copy().fillna(0)\n",
        "user_similarity = cosine_similarity(matrix_dummy, matrix_dummy)\n",
        "user_similarity = pd.DataFrame(user_similarity,\n",
        "                               index=rating_matrix.index,\n",
        "                               columns=rating_matrix.index)"
      ],
      "metadata": {
        "id": "knw7Q2LukVft"
      },
      "execution_count": 6,
      "outputs": []
    },
    {
      "cell_type": "code",
      "source": [
        "def CF_knn_bias(user_id, movie_id, neighbor_size=0):\n",
        "  if movie_id in rating_bias.columns:\n",
        "    sim_scores = user_similarity[user_id].copy()\n",
        "    movie_ratings = rating_bias[movie_id].copy()\n",
        "    # 평가하지 않은 것 제외\n",
        "    none_rating_idx = movie_ratings[movie_ratings.isnull()].index\n",
        "    movie_ratings = movie_ratings.drop(none_rating_idx)\n",
        "    sim_scores = sim_scores.drop(none_rating_idx)\n",
        "\n",
        "    if neighbor_size == 0:\n",
        "      prediction = np.dot(sim_scores, movie_ratings) / sim_scores.sum()\n",
        "      prediction = prediction + rating_mean[user_id]\n",
        "\n",
        "    else:\n",
        "      if len(sim_scores) > 1:\n",
        "        # 지정한 이웃 수보다 유사도 수가 작은지 검사\n",
        "        neighbor_size = min(neighbor_size, len(sim_scores))\n",
        "        # 연산준비\n",
        "        sim_scores = np.array(sim_scores)\n",
        "        movie_ratings = np.array(movie_ratings)\n",
        "        # 작은 유사도 index부터 sorting\n",
        "        user_idx = np.argsort(sim_scores)\n",
        "        # 유사도 큰 애들을 이웃 사이즈 만큼 가져오기\n",
        "        sim_scores = sim_scores[user_idx][-neighbor_size:]\n",
        "        movie_ratings = movie_ratings[user_idx][-neighbor_size:]\n",
        "        #예측\n",
        "        prediction = np.dot(sim_scores, movie_ratings) / sim_scores.sum()\n",
        "        prediction = prediction + rating_mean[user_id]\n",
        "      else:\n",
        "        prediction = rating_mean[user_id]\n",
        "  else:\n",
        "    prediction = rating_mean[user_id]\n",
        "  \n",
        "  return prediction\n",
        "\n",
        "def RMSE(y_true, y_pred):\n",
        "  return np.sqrt(np.mean((np.array(y_true - y_pred))**2))\n"
      ],
      "metadata": {
        "id": "me6NjGtPzFWJ"
      },
      "execution_count": 7,
      "outputs": []
    },
    {
      "cell_type": "markdown",
      "source": [
        "## Hybrid Recom"
      ],
      "metadata": {
        "id": "SCCTPN_aLs4n"
      }
    },
    {
      "cell_type": "code",
      "source": [
        "def recommender_mf(recom_list, mf):\n",
        "  recommendations = np.array([mf.get_one_predict(user, movie) for (user, movie) in recom_list]) # recom list에 있는 순서대로 mf로 예측\n",
        "  return recommendations\n",
        "def recommender_cf(recom_list, neighbor_size=0):\n",
        "  recommendations = np.array([CF_knn_bias(user, movie, neighbor_size) for (user,movie) in recom_list])\n",
        "  return recommendations\n",
        "\n",
        "recom_list = np.array(ratings_test.iloc[:, [0,1]]) # 전체에 대해 유저id, 무비 id를 받아오겠다.\n",
        "\n",
        "predictions_mf = recommender_mf(recom_list, mf)\n",
        "predictions_cf = recommender_cf(recom_list, 37)\n",
        "\n",
        "print('reco_mf : ', RMSE(ratings_test.iloc[:,2], predictions_mf))\n",
        "print('reco_cf : ', RMSE(ratings_test.iloc[:,2], predictions_cf))\n",
        "\n",
        "weight = [0.8, 0.2]\n",
        "predictions = predictions_mf * weight[0] + predictions_cf * weight[1]\n",
        "print('hybrid : ', RMSE(ratings_test.iloc[:,2],predictions))"
      ],
      "metadata": {
        "colab": {
          "base_uri": "https://localhost:8080/"
        },
        "id": "co108wzWLsuL",
        "outputId": "66df824b-5283-4dfb-ae2a-e43f5c5f62e6"
      },
      "execution_count": 11,
      "outputs": [
        {
          "output_type": "stream",
          "name": "stdout",
          "text": [
            "reco_mf :  0.9273652390083715\n",
            "reco_cf :  0.929036632035968\n",
            "hybrid :  0.9237143527699725\n"
          ]
        }
      ]
    },
    {
      "cell_type": "markdown",
      "source": [
        "## Hybrid Weight Fine tuning"
      ],
      "metadata": {
        "id": "D63GkXLbPt4S"
      }
    },
    {
      "cell_type": "code",
      "source": [
        "result = []\n",
        "weight_rate = []\n",
        "for i in np.arange(0,0.1,0.01):\n",
        "  weight = [i, 1.0 - i]\n",
        "  predictions = predictions_mf * weight[0] + predictions_cf * weight[1]\n",
        "  print(\"weights - %.2f : %.2f RMSE = %.7f\"%(weight[0], weight[1], RMSE(ratings_test.iloc[:,2],predictions)))\n",
        "  result.append(RMSE(ratings_test.iloc[:,2], predictions))\n",
        "  weight_rate.append(weight)\n",
        "print(min(result))\n",
        "index_min = result.index(min(result))\n",
        "print(weight_rate[index_min])"
      ],
      "metadata": {
        "colab": {
          "base_uri": "https://localhost:8080/"
        },
        "id": "a40ZfOywPybx",
        "outputId": "13743512-1c79-42d3-a939-02d3670d0938"
      },
      "execution_count": 22,
      "outputs": [
        {
          "output_type": "stream",
          "name": "stdout",
          "text": [
            "weights - 0.00 : 1.00 RMSE = 0.9290366\n",
            "weights - 0.01 : 0.99 RMSE = 0.9287742\n",
            "weights - 0.02 : 0.98 RMSE = 0.9285166\n",
            "weights - 0.03 : 0.97 RMSE = 0.9282640\n",
            "weights - 0.04 : 0.96 RMSE = 0.9280162\n",
            "weights - 0.05 : 0.95 RMSE = 0.9277734\n",
            "weights - 0.06 : 0.94 RMSE = 0.9275354\n",
            "weights - 0.07 : 0.93 RMSE = 0.9273024\n",
            "weights - 0.08 : 0.92 RMSE = 0.9270743\n",
            "weights - 0.09 : 0.91 RMSE = 0.9268511\n",
            "0.9268510528644012\n",
            "[0.09, 0.91]\n"
          ]
        }
      ]
    }
  ]
}