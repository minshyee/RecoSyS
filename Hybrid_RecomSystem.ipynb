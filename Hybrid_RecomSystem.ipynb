{
  "nbformat": 4,
  "nbformat_minor": 0,
  "metadata": {
    "colab": {
      "name": "Hybrid RecomSystem.ipynb",
      "provenance": [],
      "mount_file_id": "1xdstl7aEHpLd1ElssaAyd2H343-TD1EN",
      "authorship_tag": "ABX9TyNg7MTIBBjZKq9j6BogWN9r",
      "include_colab_link": true
    },
    "kernelspec": {
      "name": "python3",
      "display_name": "Python 3"
    },
    "language_info": {
      "name": "python"
    }
  },
  "cells": [
    {
      "cell_type": "markdown",
      "metadata": {
        "id": "view-in-github",
        "colab_type": "text"
      },
      "source": [
        "<a href=\"https://colab.research.google.com/github/minshyee/RecoSyS/blob/main/Hybrid_RecomSystem.ipynb\" target=\"_parent\"><img src=\"https://colab.research.google.com/assets/colab-badge.svg\" alt=\"Open In Colab\"/></a>"
      ]
    },
    {
      "cell_type": "markdown",
      "source": [
        "# 하이브리드 추천시스템의 원리"
      ],
      "metadata": {
        "id": "JyJSLcif-ZpK"
      }
    },
    {
      "cell_type": "code",
      "execution_count": 1,
      "metadata": {
        "id": "mbQ-BxFG34DG"
      },
      "outputs": [],
      "source": [
        "from sklearn.model_selection import train_test_split\n",
        "import random\n",
        "import numpy as np\n",
        "import pandas as pd"
      ]
    },
    {
      "cell_type": "code",
      "source": [
        "r_cols = ['user_id','movie_id','rating','timestamp']\n",
        "data_src = '/content/drive/MyDrive/Recosys/Data/u.data'\n",
        "ratings = pd.read_csv(data_src, \n",
        "                      names=r_cols,\n",
        "                      sep='\\t',\n",
        "                      encoding='latin-1')\n",
        "\n",
        "ratings_train, ratings_test = train_test_split(ratings,\n",
        "                                               test_size=0.2,\n",
        "                                               shuffle=True,\n",
        "                                               random_state=2021)\n",
        "\n",
        "def RMSE(y_true, y_pred):\n",
        "  return np.sqrt(np.mean((np.array(y_true) - np.array(y_pred))**2))"
      ],
      "metadata": {
        "id": "cM1AOc97-oyk"
      },
      "execution_count": 10,
      "outputs": []
    },
    {
      "cell_type": "markdown",
      "source": [
        "### dummy recosys"
      ],
      "metadata": {
        "id": "Z31CV-I8_mSA"
      }
    },
    {
      "cell_type": "code",
      "source": [
        "def recommender_1(recom_list):\n",
        "  recommandations = []\n",
        "  for pair in recom_list:\n",
        "    recommandations.append(random.random() * 4 + 1) # 1-5 사이의 난수(임의의) 평점\n",
        "  return np.array(recommandations)\n",
        "\n",
        "def recommender_2(recom_list):\n",
        "  recommandations = []\n",
        "  for pair in recom_list:\n",
        "    recommandations.append(random.random() * 4 + 1) # 1-5 사이의 난수(임의의) 평점\n",
        "  return np.array(recommandations)"
      ],
      "metadata": {
        "id": "aAB6gR3o_eWo"
      },
      "execution_count": 6,
      "outputs": []
    },
    {
      "cell_type": "markdown",
      "source": [
        "### Hybrid"
      ],
      "metadata": {
        "id": "uCgqsaBhASyM"
      }
    },
    {
      "cell_type": "code",
      "source": [
        "weight = [0.8, 0.2]\n",
        "recom_list = np.array(ratings_test)\n",
        "predictions_1 = recommender_1(recom_list)\n",
        "predictions_2 = recommender_2(recom_list)\n",
        "\n",
        "predictions = predictions_1 * weight[0] + predictions_2 * weight[1]\n",
        "RMSE(recom_list[:,2], predictions)"
      ],
      "metadata": {
        "colab": {
          "base_uri": "https://localhost:8080/"
        },
        "id": "zUumOho5_-AV",
        "outputId": "f03ee083-ad63-4f5d-ccc2-9db3c97584d4"
      },
      "execution_count": 7,
      "outputs": [
        {
          "output_type": "execute_result",
          "data": {
            "text/plain": [
              "1.5590157722579836"
            ]
          },
          "metadata": {},
          "execution_count": 7
        }
      ]
    },
    {
      "cell_type": "markdown",
      "source": [
        "## CF 와 MF의 결합 추천 시스템"
      ],
      "metadata": {
        "id": "kHew9MNDA-Aq"
      }
    },
    {
      "cell_type": "code",
      "source": [
        "from sklearn.metrics.pairwise import cosine_similarity\n",
        "import os"
      ],
      "metadata": {
        "id": "oK6SCr_3BEtE"
      },
      "execution_count": 8,
      "outputs": []
    },
    {
      "cell_type": "code",
      "source": [
        "class NEW_MF():\n",
        "  def __init__(self, ratings, hyper_params):\n",
        "    self.R = np.array(ratings)\n",
        "    self.num_users, self.num_items = np.shape(self.R)\n",
        "\n",
        "    self.K = hyper_params['K']\n",
        "    self.alpha = hyper_params['alpha']\n",
        "    self.beta = hyper_params['beta']\n",
        "    self.iterations = hyper_params['iterations']\n",
        "    self.verbose = hyper_params['verbose']\n",
        "\n",
        "    # index 재정렬 + 맵핑\n",
        "    item_id_index = []\n",
        "    index_item_id = []\n",
        "    for i, one_id in enumerate(ratings):\n",
        "      item_id_index.append([one_id, i])\n",
        "      index_item_id.append([i, one_id])\n",
        "    self.item_id_index = dict(item_id_index)\n",
        "    self.index_item_id = dict(index_item_id)\n",
        "\n",
        "    user_id_index = []\n",
        "    index_user_id = []\n",
        "    for i, one_id in enumerate(ratings.T):\n",
        "      user_id_index.append([one_id, i])\n",
        "      index_user_id.append([i, one_id])\n",
        "    self.user_id_index = dict(user_id_index)\n",
        "    self.index_user_id = dict(index_user_id)\n",
        "\n",
        "  def rmse(self):\n",
        "    xs, ys = self.R.nonzero() # 좌표값 받기\n",
        "    self.predictions = []\n",
        "    self.errors = []\n",
        "    for x,y in zip(xs,ys):\n",
        "      prediction = self.get_predict(x,y)\n",
        "      self.predictions.append(prediction)\n",
        "      self.errors.append(self.R[x,y] - prediction)\n",
        "    self.predictions = np.array(self.predictions)\n",
        "    self.errors = np.array(self.errors)\n",
        "    return np.sqrt(np.mean(self.errors**2))\n",
        "\n",
        "  def sgd(self):\n",
        "    for i,j,r in self.samples: # x,y = (i,j) | 평가데이터 r\n",
        "      prediction = self.get_predict(i,j)\n",
        "      e = (r - prediction)\n",
        "\n",
        "      self.b_u[i] += self.alpha * (e - (self.beta * self.b_u[i]))\n",
        "      self.b_d[j] += self.alpha * (e - (self.beta * self.b_d[j]))\n",
        "\n",
        "      self.P[i,:] += self.alpha * ((e * self.Q[j,:]) - (self.beta * self.P[i,:]))\n",
        "      self.Q[j,:] += self.alpha * ((e * self.P[i,:]) - (self.beta * self.Q[j,:]))\n",
        "\n",
        "  def get_predict(self,i,j):\n",
        "    prediction = self.b + self.b_u[i] + self.b_d[j] + self.P[i,:].dot(self.Q[j,:].T)\n",
        "    return prediction\n",
        "\n",
        "  def set_test(self,ratings_test):\n",
        "    test_set = []\n",
        "    for i in range(len(ratings_test)):\n",
        "      x = self.user_id_index[ratings_test.iloc[i,0]]\n",
        "      y = self.item_id_index[ratings_test.iloc[i,1]]\n",
        "      z = ratings_test.iloc[i,2]\n",
        "      test_set.append([x,y,z])\n",
        "      self.R[x,y] = 0\n",
        "    self.test_set = test_set\n",
        "    return test_set\n",
        "\n",
        "  def test_rmse(self):\n",
        "    error = 0\n",
        "    for one_set in self.test_set:\n",
        "      predicted = self.get_predict(one_set[0], one_set[1])\n",
        "      error += pow(one_set[2] - predicted, 2)\n",
        "    return np.sqrt(error/len(self.test_set))\n",
        "\n",
        "  def test(self):\n",
        "    self.P = np.random.normal(scale=1./self.K,\n",
        "                              size=(self.num_users,self.K))\n",
        "    self.Q = np.random.normal(scale=1./self.K,\n",
        "                              size=(self.num_items,self.K))\n",
        "    self.b_u = np.zeros(self.num_users)\n",
        "    self.b_d = np.zeros(self.num_items)\n",
        "    self.b = np.mean(self.R[self.R.nonzero()])\n",
        "\n",
        "    rows, columns = self.R.nonzero()\n",
        "    self.samples = [(i,j,self.R[i,j]) for i, j in zip(rows, columns)]\n",
        "\n",
        "    training_process = []\n",
        "    for i in range(self.iterations):\n",
        "      np.random.shuffle(self.samples)\n",
        "      self.sgd()\n",
        "      rmse_train = self.rmse()\n",
        "      rmse_test = self.test_rmse()\n",
        "      training_process.append((i+1, rmse_train, rmse_test))\n",
        "      if self.verbose:\n",
        "        if (i+1) % 10 == 0:\n",
        "          print(f\"Iteration : {i+1} | Train RMSE : {rmse_train} | Test RMSE : {rmse_test}\")\n",
        "    \n",
        "    return training_process\n",
        "\n",
        "  def get_one_predict(self,user_id,item_id):\n",
        "    return self.get_predict(self.user_id_index[user_id],\n",
        "                            self.item_id_index[item_id])\n",
        "    \n",
        "  def full_predict(self):\n",
        "    return self.b + self.b_u[:, np.newaxis] + self.b_d[np.newaxis, :] + self.P.dot(self.Q.T)\n",
        "\n"
      ],
      "metadata": {
        "id": "kNriZhXTEjXw"
      },
      "execution_count": 9,
      "outputs": []
    },
    {
      "cell_type": "code",
      "source": [
        ""
      ],
      "metadata": {
        "id": "Hungypd9ObUj"
      },
      "execution_count": null,
      "outputs": []
    }
  ]
}